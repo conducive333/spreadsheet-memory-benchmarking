{
 "metadata": {
  "language_info": {
   "codemirror_mode": {
    "name": "ipython",
    "version": 3
   },
   "file_extension": ".py",
   "mimetype": "text/x-python",
   "name": "python",
   "nbconvert_exporter": "python",
   "pygments_lexer": "ipython3",
   "version": "3.9.1-final"
  },
  "orig_nbformat": 2,
  "kernelspec": {
   "name": "python3",
   "display_name": "Python 3.9.1 64-bit ('venv')",
   "metadata": {
    "interpreter": {
     "hash": "eac5fd4f3b87df99de86ad020418d85b202268d4b21f8e6ebb10ed7c9c0fe4d2"
    }
   }
  }
 },
 "nbformat": 4,
 "nbformat_minor": 2,
 "cells": [
  {
   "source": [
    "# Real-Time Experimental Results Visualizer"
   ],
   "cell_type": "markdown",
   "metadata": {}
  },
  {
   "source": [
    "## Setup"
   ],
   "cell_type": "markdown",
   "metadata": {}
  },
  {
   "cell_type": "code",
   "execution_count": 1,
   "metadata": {},
   "outputs": [],
   "source": [
    "import plotly.graph_objects as go\n",
    "import util"
   ]
  },
  {
   "cell_type": "code",
   "execution_count": 2,
   "metadata": {},
   "outputs": [
    {
     "output_type": "display_data",
     "data": {
      "text/plain": "FigureWidget({\n    'data': [{'name': 'Formula-Value (MB)', 'type': 'scatter', 'uid': 'acf10d88-d23c-402d-9958-…",
      "application/vnd.jupyter.widget-view+json": {
       "version_major": 2,
       "version_minor": 0,
       "model_id": "37e6a26eae6547979e36e4630a049012"
      }
     },
     "metadata": {}
    }
   ],
   "source": [
    "fv_fig = go.FigureWidget(\n",
    "    layout=go.Layout(\n",
    "        title=go.layout.Title(text=\"Formula-Value Live Data\"),\n",
    "        xaxis=dict(title=\"Rows\"),\n",
    "        yaxis=dict(title=\"Formula Size (MB)\")\n",
    "    )\n",
    ")\n",
    "fv_fig.add_scatter(name='Formula-Value (MB)')\n",
    "fv_fig"
   ]
  },
  {
   "cell_type": "code",
   "execution_count": 3,
   "metadata": {},
   "outputs": [
    {
     "output_type": "display_data",
     "data": {
      "text/plain": "FigureWidget({\n    'data': [{'name': 'Value-Only (MB)', 'type': 'scatter', 'uid': 'ed613749-d886-49d8-838b-d0e…",
      "application/vnd.jupyter.widget-view+json": {
       "version_major": 2,
       "version_minor": 0,
       "model_id": "f115268abc6c4d5f951f1d578a296dc8"
      }
     },
     "metadata": {}
    }
   ],
   "source": [
    "vo_fig = go.FigureWidget(\n",
    "    layout=go.Layout(\n",
    "        title=go.layout.Title(text=\"Value-Only Live Data\"),\n",
    "        xaxis=dict(title=\"Rows\"),\n",
    "        yaxis=dict(title=\"Value Size (MB)\")\n",
    "    )\n",
    ")\n",
    "vo_fig.add_scatter(name='Value-Only (MB)')\n",
    "vo_fig"
   ]
  },
  {
   "cell_type": "code",
   "execution_count": 4,
   "metadata": {},
   "outputs": [
    {
     "output_type": "display_data",
     "data": {
      "text/plain": "FigureWidget({\n    'data': [{'name': 'Value-Only (MB)', 'type': 'bar', 'uid': 'cfb904c4-76a5-4922-a759-94e8499…",
      "application/vnd.jupyter.widget-view+json": {
       "version_major": 2,
       "version_minor": 0,
       "model_id": "469d04c399f645c2ab81855dbf4b6e5d"
      }
     },
     "metadata": {}
    }
   ],
   "source": [
    "barplt = go.FigureWidget(\n",
    "    layout=go.Layout(\n",
    "        title=go.layout.Title(text=\"Live Data\"),\n",
    "        xaxis=dict(title=\"Rows\"),\n",
    "        yaxis=dict(title=\"Size (MB)\")\n",
    "    )\n",
    ")\n",
    "barplt.add_bar(name='Value-Only (MB)')\n",
    "barplt.add_bar(name='Formula-Value (MB)')\n",
    "barplt"
   ]
  },
  {
   "source": [
    "## Place your own settings here"
   ],
   "cell_type": "markdown",
   "metadata": {}
  },
  {
   "cell_type": "code",
   "execution_count": 5,
   "metadata": {},
   "outputs": [],
   "source": [
    "# Input and output paths are relative to root directory\n",
    "INTEGER_ARG = 1\n",
    "OUTPUT_PATH = os.path.join(\"experiments\", \"results\", \"excel\", \"TEST\")\n",
    "SOFFICE_DIR = \"C:/Program Files/LibreOffice/program/soffice\"\n",
    "CONFIG_ARGS = util.ConfigArgs(inst=\"CompleteBipartiteSum\"\n",
    "    , path=os.path.join(\"experiments\", \"input-data\", \"rscs-test\")\n",
    "    , rand=42\n",
    "    , xlsx=True\n",
    "    , step=10000\n",
    "    , rows=0\n",
    "    , cols=1\n",
    "    , itrs=2\n",
    "    , pool=1\n",
    ")"
   ]
  },
  {
   "source": [
    "## Run the following cells for real-time results"
   ],
   "cell_type": "markdown",
   "metadata": {}
  },
  {
   "cell_type": "code",
   "execution_count": 7,
   "metadata": {
    "tags": []
   },
   "outputs": [
    {
     "output_type": "stream",
     "name": "stdout",
     "text": [
      "Closing all running instances of EXCEL.EXE (if any)\n",
      "Opening vo-30000.xlsx (trial 1)\n",
      "{'Value peak_nonpaged_pool (MB)': 0.063584, 'Value peak_paged_pool (MB)': 1.514104, 'Value peak_pagefile (MB)': 85.639168, 'Value nonpaged_pool (MB)': 0.063448, 'Value paged_pool (MB)': 1.512896, 'Value peak_wset (MB)': 140.107776, 'Value pagefile (MB)': 85.639168, 'Value private (MB)': 85.639168, 'Value wset (MB)': 138.719232, 'Value rss (MB)': 138.719232, 'Value uss (MB)': 61.579264, 'Value vms (MB)': 85.639168}\n",
      "Opening vo-80000.xlsx (trial 1)\n",
      "{'Value peak_nonpaged_pool (MB)': 0.061912, 'Value peak_paged_pool (MB)': 1.497208, 'Value peak_pagefile (MB)': 87.748608, 'Value nonpaged_pool (MB)': 0.061848, 'Value paged_pool (MB)': 1.496256, 'Value peak_wset (MB)': 140.898304, 'Value pagefile (MB)': 87.748608, 'Value private (MB)': 87.748608, 'Value wset (MB)': 140.894208, 'Value rss (MB)': 140.894208, 'Value uss (MB)': 63.209472, 'Value vms (MB)': 87.748608}\n",
      "Opening vo-20000.xlsx (trial 1)\n",
      "{'Value peak_nonpaged_pool (MB)': 0.061912, 'Value peak_paged_pool (MB)': 1.497224, 'Value peak_pagefile (MB)': 84.414464, 'Value nonpaged_pool (MB)': 0.061848, 'Value paged_pool (MB)': 1.496272, 'Value peak_wset (MB)': 138.080256, 'Value pagefile (MB)': 84.414464, 'Value private (MB)': 84.414464, 'Value wset (MB)': 138.07616, 'Value rss (MB)': 138.07616, 'Value uss (MB)': 60.280832, 'Value vms (MB)': 84.414464}\n",
      "Opening vo-0.xlsx (trial 1)\n",
      "{'Value peak_nonpaged_pool (MB)': 0.061776, 'Value peak_paged_pool (MB)': 1.498616, 'Value peak_pagefile (MB)': 82.952192, 'Value nonpaged_pool (MB)': 0.061712, 'Value paged_pool (MB)': 1.4976, 'Value peak_wset (MB)': 136.183808, 'Value pagefile (MB)': 82.653184, 'Value private (MB)': 82.653184, 'Value wset (MB)': 136.179712, 'Value rss (MB)': 136.179712, 'Value uss (MB)': 58.61376, 'Value vms (MB)': 82.653184}\n",
      "Opening vo-40000.xlsx (trial 1)\n",
      "{'Value peak_nonpaged_pool (MB)': 0.061776, 'Value peak_paged_pool (MB)': 1.496856, 'Value peak_pagefile (MB)': 84.987904, 'Value nonpaged_pool (MB)': 0.061712, 'Value paged_pool (MB)': 1.495904, 'Value peak_wset (MB)': 138.719232, 'Value pagefile (MB)': 84.987904, 'Value private (MB)': 84.987904, 'Value wset (MB)': 138.715136, 'Value rss (MB)': 138.715136, 'Value uss (MB)': 61.145088, 'Value vms (MB)': 84.987904}\n",
      "Opening vo-50000.xlsx (trial 1)\n",
      "{'Value peak_nonpaged_pool (MB)': 0.061776, 'Value peak_paged_pool (MB)': 1.497208, 'Value peak_pagefile (MB)': 85.876736, 'Value nonpaged_pool (MB)': 0.061712, 'Value paged_pool (MB)': 1.496256, 'Value peak_wset (MB)': 138.747904, 'Value pagefile (MB)': 85.876736, 'Value private (MB)': 85.876736, 'Value wset (MB)': 138.743808, 'Value rss (MB)': 138.743808, 'Value uss (MB)': 61.31712, 'Value vms (MB)': 85.876736}\n",
      "Opening vo-90000.xlsx (trial 1)\n",
      "{'Value peak_nonpaged_pool (MB)': 0.061304, 'Value peak_paged_pool (MB)': 1.493544, 'Value peak_pagefile (MB)': 87.9616, 'Value nonpaged_pool (MB)': 0.061304, 'Value paged_pool (MB)': 1.49264, 'Value peak_wset (MB)': 141.369344, 'Value pagefile (MB)': 87.9616, 'Value private (MB)': 87.9616, 'Value wset (MB)': 141.365248, 'Value rss (MB)': 141.365248, 'Value uss (MB)': 63.557632, 'Value vms (MB)': 87.9616}\n",
      "Opening vo-10000.xlsx (trial 1)\n",
      "{'Value peak_nonpaged_pool (MB)': 0.061912, 'Value peak_paged_pool (MB)': 1.49876, 'Value peak_pagefile (MB)': 83.574784, 'Value nonpaged_pool (MB)': 0.061848, 'Value paged_pool (MB)': 1.497744, 'Value peak_wset (MB)': 137.023488, 'Value pagefile (MB)': 83.566592, 'Value private (MB)': 83.566592, 'Value wset (MB)': 137.019392, 'Value rss (MB)': 137.019392, 'Value uss (MB)': 59.20768, 'Value vms (MB)': 83.566592}\n",
      "Opening vo-60000.xlsx (trial 1)\n",
      "{'Value peak_nonpaged_pool (MB)': 0.061912, 'Value peak_paged_pool (MB)': 1.499272, 'Value peak_pagefile (MB)': 86.822912, 'Value nonpaged_pool (MB)': 0.061848, 'Value paged_pool (MB)': 1.498256, 'Value peak_wset (MB)': 140.374016, 'Value pagefile (MB)': 86.81472, 'Value private (MB)': 86.81472, 'Value wset (MB)': 140.36992, 'Value rss (MB)': 140.36992, 'Value uss (MB)': 62.599168, 'Value vms (MB)': 86.81472}\n",
      "Opening vo-70000.xlsx (trial 1)\n",
      "{'Value peak_nonpaged_pool (MB)': 0.061912, 'Value peak_paged_pool (MB)': 1.497432, 'Value peak_pagefile (MB)': 87.281664, 'Value nonpaged_pool (MB)': 0.061848, 'Value paged_pool (MB)': 1.49648, 'Value peak_wset (MB)': 140.918784, 'Value pagefile (MB)': 87.273472, 'Value private (MB)': 87.273472, 'Value wset (MB)': 140.914688, 'Value rss (MB)': 140.914688, 'Value uss (MB)': 63.16032, 'Value vms (MB)': 87.273472}\n",
      "Opening vo-100000.xlsx (trial 1)\n",
      "{'Value peak_nonpaged_pool (MB)': 0.061776, 'Value peak_paged_pool (MB)': 1.497176, 'Value peak_pagefile (MB)': 88.805376, 'Value nonpaged_pool (MB)': 0.061712, 'Value paged_pool (MB)': 1.496224, 'Value peak_wset (MB)': 142.442496, 'Value pagefile (MB)': 88.805376, 'Value private (MB)': 88.805376, 'Value wset (MB)': 142.4384, 'Value rss (MB)': 142.4384, 'Value uss (MB)': 64.643072, 'Value vms (MB)': 88.805376}\n",
      "Opening fv-20000.xlsx (trial 1)\n",
      "{'Value peak_nonpaged_pool (MB)': 0.061912, 'Value peak_paged_pool (MB)': 1.497224, 'Value peak_pagefile (MB)': 84.414464, 'Value nonpaged_pool (MB)': 0.061848, 'Value paged_pool (MB)': 1.496272, 'Value peak_wset (MB)': 138.080256, 'Value pagefile (MB)': 84.414464, 'Value private (MB)': 84.414464, 'Value wset (MB)': 138.07616, 'Value rss (MB)': 138.07616, 'Value uss (MB)': 60.280832, 'Value vms (MB)': 84.414464, 'Formula peak_nonpaged_pool (MB)': 0.063272, 'Formula peak_paged_pool (MB)': 1.512776, 'Formula peak_pagefile (MB)': 87.007232, 'Formula nonpaged_pool (MB)': 0.063072, 'Formula paged_pool (MB)': 1.511552, 'Formula peak_wset (MB)': 140.988416, 'Formula pagefile (MB)': 87.007232, 'Formula private (MB)': 87.007232, 'Formula wset (MB)': 140.98432, 'Formula rss (MB)': 140.98432, 'Formula uss (MB)': 62.83264, 'Formula vms (MB)': 87.007232}\n",
      "Opening fv-80000.xlsx (trial 1)\n",
      "{'Value peak_nonpaged_pool (MB)': 0.061912, 'Value peak_paged_pool (MB)': 1.497208, 'Value peak_pagefile (MB)': 87.748608, 'Value nonpaged_pool (MB)': 0.061848, 'Value paged_pool (MB)': 1.496256, 'Value peak_wset (MB)': 140.898304, 'Value pagefile (MB)': 87.748608, 'Value private (MB)': 87.748608, 'Value wset (MB)': 140.894208, 'Value rss (MB)': 140.894208, 'Value uss (MB)': 63.209472, 'Value vms (MB)': 87.748608, 'Formula peak_nonpaged_pool (MB)': 0.063192, 'Formula peak_paged_pool (MB)': 1.498808, 'Formula peak_pagefile (MB)': 95.854592, 'Formula nonpaged_pool (MB)': 0.063128, 'Formula paged_pool (MB)': 1.497792, 'Formula peak_wset (MB)': 148.934656, 'Formula pagefile (MB)': 95.854592, 'Formula private (MB)': 95.854592, 'Formula wset (MB)': 148.93056, 'Formula rss (MB)': 148.93056, 'Formula uss (MB)': 70.90176, 'Formula vms (MB)': 95.854592}\n",
      "Opening fv-0.xlsx (trial 1)\n",
      "{'Value peak_nonpaged_pool (MB)': 0.061776, 'Value peak_paged_pool (MB)': 1.498616, 'Value peak_pagefile (MB)': 82.952192, 'Value nonpaged_pool (MB)': 0.061712, 'Value paged_pool (MB)': 1.4976, 'Value peak_wset (MB)': 136.183808, 'Value pagefile (MB)': 82.653184, 'Value private (MB)': 82.653184, 'Value wset (MB)': 136.179712, 'Value rss (MB)': 136.179712, 'Value uss (MB)': 58.61376, 'Value vms (MB)': 82.653184, 'Formula peak_nonpaged_pool (MB)': 0.06164, 'Formula peak_paged_pool (MB)': 1.49684, 'Formula peak_pagefile (MB)': 83.501056, 'Formula nonpaged_pool (MB)': 0.061576, 'Formula paged_pool (MB)': 1.495888, 'Formula peak_wset (MB)': 136.577024, 'Formula pagefile (MB)': 83.501056, 'Formula private (MB)': 83.501056, 'Formula wset (MB)': 136.572928, 'Formula rss (MB)': 136.572928, 'Formula uss (MB)': 58.933248, 'Formula vms (MB)': 83.501056}\n",
      "Opening fv-10000.xlsx (trial 1)\n",
      "{'Value peak_nonpaged_pool (MB)': 0.061912, 'Value peak_paged_pool (MB)': 1.49876, 'Value peak_pagefile (MB)': 83.574784, 'Value nonpaged_pool (MB)': 0.061848, 'Value paged_pool (MB)': 1.497744, 'Value peak_wset (MB)': 137.023488, 'Value pagefile (MB)': 83.566592, 'Value private (MB)': 83.566592, 'Value wset (MB)': 137.019392, 'Value rss (MB)': 137.019392, 'Value uss (MB)': 59.20768, 'Value vms (MB)': 83.566592, 'Formula peak_nonpaged_pool (MB)': 0.061984, 'Formula peak_paged_pool (MB)': 1.495096, 'Formula peak_pagefile (MB)': 85.102592, 'Formula nonpaged_pool (MB)': 0.061848, 'Formula paged_pool (MB)': 1.494176, 'Formula peak_wset (MB)': 138.432512, 'Formula pagefile (MB)': 85.102592, 'Formula private (MB)': 85.102592, 'Formula wset (MB)': 138.428416, 'Formula rss (MB)': 138.428416, 'Formula uss (MB)': 60.346368, 'Formula vms (MB)': 85.102592}\n",
      "Opening fv-100000.xlsx (trial 1)\n",
      "{'Value peak_nonpaged_pool (MB)': 0.061776, 'Value peak_paged_pool (MB)': 1.497176, 'Value peak_pagefile (MB)': 88.805376, 'Value nonpaged_pool (MB)': 0.061712, 'Value paged_pool (MB)': 1.496224, 'Value peak_wset (MB)': 142.442496, 'Value pagefile (MB)': 88.805376, 'Value private (MB)': 88.805376, 'Value wset (MB)': 142.4384, 'Value rss (MB)': 142.4384, 'Value uss (MB)': 64.643072, 'Value vms (MB)': 88.805376, 'Formula peak_nonpaged_pool (MB)': 0.062784, 'Formula peak_paged_pool (MB)': 1.495784, 'Formula peak_pagefile (MB)': 99.917824, 'Formula nonpaged_pool (MB)': 0.06272, 'Formula paged_pool (MB)': 1.494864, 'Formula peak_wset (MB)': 152.305664, 'Formula pagefile (MB)': 99.917824, 'Formula private (MB)': 99.917824, 'Formula wset (MB)': 152.301568, 'Formula rss (MB)': 152.301568, 'Formula uss (MB)': 74.088448, 'Formula vms (MB)': 99.917824}\n",
      "Opening fv-30000.xlsx (trial 1)\n",
      "{'Value peak_nonpaged_pool (MB)': 0.063584, 'Value peak_paged_pool (MB)': 1.514104, 'Value peak_pagefile (MB)': 85.639168, 'Value nonpaged_pool (MB)': 0.063448, 'Value paged_pool (MB)': 1.512896, 'Value peak_wset (MB)': 140.107776, 'Value pagefile (MB)': 85.639168, 'Value private (MB)': 85.639168, 'Value wset (MB)': 138.719232, 'Value rss (MB)': 138.719232, 'Value uss (MB)': 61.579264, 'Value vms (MB)': 85.639168, 'Formula peak_nonpaged_pool (MB)': 0.062048, 'Formula peak_paged_pool (MB)': 1.49772, 'Formula peak_pagefile (MB)': 88.424448, 'Formula nonpaged_pool (MB)': 0.061984, 'Formula paged_pool (MB)': 1.496768, 'Formula peak_wset (MB)': 142.426112, 'Formula pagefile (MB)': 88.424448, 'Formula private (MB)': 88.424448, 'Formula wset (MB)': 142.422016, 'Formula rss (MB)': 142.422016, 'Formula uss (MB)': 64.315392, 'Formula vms (MB)': 88.424448}\n",
      "Opening fv-90000.xlsx (trial 1)\n",
      "{'Value peak_nonpaged_pool (MB)': 0.061304, 'Value peak_paged_pool (MB)': 1.493544, 'Value peak_pagefile (MB)': 87.9616, 'Value nonpaged_pool (MB)': 0.061304, 'Value paged_pool (MB)': 1.49264, 'Value peak_wset (MB)': 141.369344, 'Value pagefile (MB)': 87.9616, 'Value private (MB)': 87.9616, 'Value wset (MB)': 141.365248, 'Value rss (MB)': 141.365248, 'Value uss (MB)': 63.557632, 'Value vms (MB)': 87.9616, 'Formula peak_nonpaged_pool (MB)': 0.063056, 'Formula peak_paged_pool (MB)': 1.497192, 'Formula peak_pagefile (MB)': 97.452032, 'Formula nonpaged_pool (MB)': 0.062992, 'Formula paged_pool (MB)': 1.49624, 'Formula peak_wset (MB)': 149.929984, 'Formula pagefile (MB)': 97.452032, 'Formula private (MB)': 97.452032, 'Formula wset (MB)': 149.925888, 'Formula rss (MB)': 149.925888, 'Formula uss (MB)': 71.794688, 'Formula vms (MB)': 97.452032}\n",
      "Opening fv-40000.xlsx (trial 1)\n",
      "{'Value peak_nonpaged_pool (MB)': 0.061776, 'Value peak_paged_pool (MB)': 1.496856, 'Value peak_pagefile (MB)': 84.987904, 'Value nonpaged_pool (MB)': 0.061712, 'Value paged_pool (MB)': 1.495904, 'Value peak_wset (MB)': 138.719232, 'Value pagefile (MB)': 84.987904, 'Value private (MB)': 84.987904, 'Value wset (MB)': 138.715136, 'Value rss (MB)': 138.715136, 'Value uss (MB)': 61.145088, 'Value vms (MB)': 84.987904, 'Formula peak_nonpaged_pool (MB)': 0.061584, 'Formula peak_paged_pool (MB)': 1.497656, 'Formula peak_pagefile (MB)': 89.587712, 'Formula nonpaged_pool (MB)': 0.06152, 'Formula paged_pool (MB)': 1.496704, 'Formula peak_wset (MB)': 143.417344, 'Formula pagefile (MB)': 89.587712, 'Formula private (MB)': 89.587712, 'Formula wset (MB)': 143.413248, 'Formula rss (MB)': 143.413248, 'Formula uss (MB)': 65.277952, 'Formula vms (MB)': 89.587712}\n",
      "Opening fv-50000.xlsx (trial 1)\n",
      "{'Value peak_nonpaged_pool (MB)': 0.061776, 'Value peak_paged_pool (MB)': 1.497208, 'Value peak_pagefile (MB)': 85.876736, 'Value nonpaged_pool (MB)': 0.061712, 'Value paged_pool (MB)': 1.496256, 'Value peak_wset (MB)': 138.747904, 'Value pagefile (MB)': 85.876736, 'Value private (MB)': 85.876736, 'Value wset (MB)': 138.743808, 'Value rss (MB)': 138.743808, 'Value uss (MB)': 61.31712, 'Value vms (MB)': 85.876736, 'Formula peak_nonpaged_pool (MB)': 0.062184, 'Formula peak_paged_pool (MB)': 1.49636, 'Formula peak_pagefile (MB)': 92.565504, 'Formula nonpaged_pool (MB)': 0.06212, 'Formula paged_pool (MB)': 1.49544, 'Formula peak_wset (MB)': 146.194432, 'Formula pagefile (MB)': 92.557312, 'Formula private (MB)': 92.557312, 'Formula wset (MB)': 146.190336, 'Formula rss (MB)': 146.190336, 'Formula uss (MB)': 67.997696, 'Formula vms (MB)': 92.557312}\n",
      "Opening fv-60000.xlsx (trial 1)\n",
      "{'Value peak_nonpaged_pool (MB)': 0.061912, 'Value peak_paged_pool (MB)': 1.499272, 'Value peak_pagefile (MB)': 86.822912, 'Value nonpaged_pool (MB)': 0.061848, 'Value paged_pool (MB)': 1.498256, 'Value peak_wset (MB)': 140.374016, 'Value pagefile (MB)': 86.81472, 'Value private (MB)': 86.81472, 'Value wset (MB)': 140.36992, 'Value rss (MB)': 140.36992, 'Value uss (MB)': 62.599168, 'Value vms (MB)': 86.81472, 'Formula peak_nonpaged_pool (MB)': 0.062784, 'Formula peak_paged_pool (MB)': 1.495472, 'Formula peak_pagefile (MB)': 93.003776, 'Formula nonpaged_pool (MB)': 0.06272, 'Formula paged_pool (MB)': 1.494552, 'Formula peak_wset (MB)': 147.12832, 'Formula pagefile (MB)': 93.003776, 'Formula private (MB)': 93.003776, 'Formula wset (MB)': 147.124224, 'Formula rss (MB)': 147.124224, 'Formula uss (MB)': 68.947968, 'Formula vms (MB)': 93.003776}\n",
      "Opening fv-70000.xlsx (trial 1)\n",
      "{'Value peak_nonpaged_pool (MB)': 0.061912, 'Value peak_paged_pool (MB)': 1.497432, 'Value peak_pagefile (MB)': 87.281664, 'Value nonpaged_pool (MB)': 0.061848, 'Value paged_pool (MB)': 1.49648, 'Value peak_wset (MB)': 140.918784, 'Value pagefile (MB)': 87.273472, 'Value private (MB)': 87.273472, 'Value wset (MB)': 140.914688, 'Value rss (MB)': 140.914688, 'Value uss (MB)': 63.16032, 'Value vms (MB)': 87.273472, 'Formula peak_nonpaged_pool (MB)': 0.06292, 'Formula peak_paged_pool (MB)': 1.495288, 'Formula peak_pagefile (MB)': 94.69952, 'Formula nonpaged_pool (MB)': 0.062856, 'Formula paged_pool (MB)': 1.494368, 'Formula peak_wset (MB)': 147.349504, 'Formula pagefile (MB)': 94.191616, 'Formula private (MB)': 94.191616, 'Formula wset (MB)': 147.345408, 'Formula rss (MB)': 147.345408, 'Formula uss (MB)': 69.14048, 'Formula vms (MB)': 94.191616}\n",
      "\n",
      "Total time (HH:MM:SS): 00:00:46\n"
     ]
    }
   ],
   "source": [
    "util.run_vis(CONFIG_ARGS\n",
    "  , OUTPUT_PATH\n",
    "  , INTEGER_ARG\n",
    "  , SOFFICE_DIR\n",
    "  , fv_fig\n",
    "  , vo_fig\n",
    "  , barplt\n",
    "  , 'uss'\n",
    ")"
   ]
  },
  {
   "cell_type": "code",
   "execution_count": 8,
   "metadata": {},
   "outputs": [],
   "source": [
    "# Timing notes\n",
    "\n",
    "# EXCEL:\n",
    "# large-RCBS-1col (Python)\n",
    "#   Up to 1 million: Total time (HH:MM:SS): 06:56:18\n",
    "# RCBS-1col (Python)\n",
    "#   Up to 1 million: Total time (HH:MM:SS): 07:05:28\n",
    "# RCBS-1col (VBA)\n",
    "#   Up to 1 million: Total time (HH:MM:SS): 07:47:56\n",
    "# RLS-1col\n",
    "#   Up to 1 million: Total time (HH:MM:SS): 00:06:18\n",
    "# RSCS-1col (VBA)\n",
    "#   Up to 1 million: Total time (HH:MM:SS): 00:08:18\n",
    "# RLS-5col\n",
    "#   Up to 1 million: Total time (HH:MM:SS): 00:21:21"
   ]
  }
 ]
}