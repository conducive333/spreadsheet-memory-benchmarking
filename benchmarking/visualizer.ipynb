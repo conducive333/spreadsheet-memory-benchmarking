{
 "metadata": {
  "language_info": {
   "codemirror_mode": {
    "name": "ipython",
    "version": 3
   },
   "file_extension": ".py",
   "mimetype": "text/x-python",
   "name": "python",
   "nbconvert_exporter": "python",
   "pygments_lexer": "ipython3",
   "version": "3.9.1-final"
  },
  "orig_nbformat": 2,
  "kernelspec": {
   "name": "python3",
   "display_name": "Python 3.9.1 64-bit ('venv')",
   "metadata": {
    "interpreter": {
     "hash": "eac5fd4f3b87df99de86ad020418d85b202268d4b21f8e6ebb10ed7c9c0fe4d2"
    }
   }
  }
 },
 "nbformat": 4,
 "nbformat_minor": 2,
 "cells": [
  {
   "source": [
    "# Real-Time Experimental Results Visualizer"
   ],
   "cell_type": "markdown",
   "metadata": {}
  },
  {
   "source": [
    "## Setup"
   ],
   "cell_type": "markdown",
   "metadata": {}
  },
  {
   "cell_type": "code",
   "execution_count": 1,
   "metadata": {},
   "outputs": [],
   "source": [
    "import plotly.graph_objects as go\n",
    "import multiprocessing as mp\n",
    "import util"
   ]
  },
  {
   "cell_type": "code",
   "execution_count": 2,
   "metadata": {},
   "outputs": [
    {
     "output_type": "display_data",
     "data": {
      "text/plain": "FigureWidget({\n    'data': [{'name': 'Formula-Value (MB)', 'type': 'scatter', 'uid': 'b1ae3f86-5e8f-4a1a-b7f5-…",
      "application/vnd.jupyter.widget-view+json": {
       "version_major": 2,
       "version_minor": 0,
       "model_id": "1b13a3c933c0401d980e80aee0eaef2d"
      }
     },
     "metadata": {}
    }
   ],
   "source": [
    "fv_fig = go.FigureWidget(\n",
    "    layout=go.Layout(\n",
    "        title=go.layout.Title(text=\"Formula-Value Live Data\"),\n",
    "        xaxis=dict(title=\"Rows\"),\n",
    "        yaxis=dict(title=\"Formula Size (MB)\")\n",
    "    )\n",
    ")\n",
    "fv_fig.add_scatter(name='Formula-Value (MB)')\n",
    "fv_fig"
   ]
  },
  {
   "cell_type": "code",
   "execution_count": 3,
   "metadata": {},
   "outputs": [
    {
     "output_type": "display_data",
     "data": {
      "text/plain": "FigureWidget({\n    'data': [{'name': 'Value-Only (MB)', 'type': 'scatter', 'uid': 'e5d370f1-6cd4-472d-8761-859…",
      "application/vnd.jupyter.widget-view+json": {
       "version_major": 2,
       "version_minor": 0,
       "model_id": "872d8831ed19480fab1c95ce5b487a3e"
      }
     },
     "metadata": {}
    }
   ],
   "source": [
    "vo_fig = go.FigureWidget(\n",
    "    layout=go.Layout(\n",
    "        title=go.layout.Title(text=\"Value-Only Live Data\"),\n",
    "        xaxis=dict(title=\"Rows\"),\n",
    "        yaxis=dict(title=\"Value Size (MB)\")\n",
    "    )\n",
    ")\n",
    "vo_fig.add_scatter(name='Value-Only (MB)')\n",
    "vo_fig"
   ]
  },
  {
   "cell_type": "code",
   "execution_count": 4,
   "metadata": {},
   "outputs": [
    {
     "output_type": "display_data",
     "data": {
      "text/plain": "FigureWidget({\n    'data': [{'name': 'Value-Only (MB)', 'type': 'bar', 'uid': '6eec17c3-4392-458c-8828-a4e197b…",
      "application/vnd.jupyter.widget-view+json": {
       "version_major": 2,
       "version_minor": 0,
       "model_id": "3d8c6c87d766476c937c1525896b2275"
      }
     },
     "metadata": {}
    }
   ],
   "source": [
    "barplt = go.FigureWidget(\n",
    "    layout=go.Layout(\n",
    "        title=go.layout.Title(text=\"Live Data\"),\n",
    "        xaxis=dict(title=\"Rows\"),\n",
    "        yaxis=dict(title=\"Size (MB)\")\n",
    "    )\n",
    ")\n",
    "barplt.add_bar(name='Value-Only (MB)')\n",
    "barplt.add_bar(name='Formula-Value (MB)')\n",
    "barplt"
   ]
  },
  {
   "source": [
    "## Place your own settings here"
   ],
   "cell_type": "markdown",
   "metadata": {}
  },
  {
   "cell_type": "code",
   "execution_count": 5,
   "metadata": {},
   "outputs": [],
   "source": [
    "# Input and output paths are relative to root directory\n",
    "INTEGER_ARG = 1\n",
    "OUTPUT_PATH = os.path.join(\"experiments\", \"results\", \"excel\", \"TEST\")\n",
    "SOFFICE_DIR = \"C:/Program Files/LibreOffice/program/soffice\"\n",
    "CONFIG_ARGS = util.ConfigArgs(inst=\"CompleteBipartiteSum\"\n",
    "    , path=\"dataset\"\n",
    "    , rand=42\n",
    "    , xlsx=False\n",
    "    , step=10000\n",
    "    , rows=0\n",
    "    , cols=1\n",
    "    , itrs=2\n",
    "    , pool=1\n",
    ")"
   ]
  },
  {
   "source": [
    "## Run the following cells for real-time results"
   ],
   "cell_type": "markdown",
   "metadata": {}
  },
  {
   "cell_type": "code",
   "execution_count": 6,
   "metadata": {},
   "outputs": [
    {
     "output_type": "stream",
     "name": "stdout",
     "text": [
      "vo-0.ods: {'peak_nonpaged_pool': 43088, 'peak_paged_pool': 287888, 'peak_pagefile': 411451392, 'nonpaged_pool': 42816, 'paged_pool': 287888, 'peak_wset': 53583872, 'pagefile': 410083328, 'private': 410083328, 'wset': 52793344, 'rss': 52793344, 'uss': 37142528, 'vms': 410083328}\n",
      "vo-0.ods: {'peak_nonpaged_pool': 60184, 'peak_paged_pool': 1523040, 'peak_pagefile': 320581632, 'nonpaged_pool': 60184, 'paged_pool': 1523040, 'peak_wset': 450785280, 'pagefile': 320581632, 'private': 320581632, 'wset': 450781184, 'rss': 450781184, 'uss': 230473728, 'vms': 320581632}\n",
      "vo-0.ods: {'peak_nonpaged_pool': 62496, 'peak_paged_pool': 1542544, 'peak_pagefile': 478683136, 'nonpaged_pool': 62224, 'paged_pool': 1542544, 'peak_wset': 557711360, 'pagefile': 478519296, 'private': 478519296, 'wset': 557699072, 'rss': 557699072, 'uss': 335446016, 'vms': 478519296}\n",
      "vo-0.ods: {'peak_nonpaged_pool': 62496, 'peak_paged_pool': 1542544, 'peak_pagefile': 478683136, 'nonpaged_pool': 62224, 'paged_pool': 1542544, 'peak_wset': 557711360, 'pagefile': 478519296, 'private': 478519296, 'wset': 557699072, 'rss': 557699072, 'uss': 335446016, 'vms': 478519296}\n",
      "vo-0.ods: {'peak_nonpaged_pool': 62496, 'peak_paged_pool': 1542544, 'peak_pagefile': 478683136, 'nonpaged_pool': 62224, 'paged_pool': 1542544, 'peak_wset': 557711360, 'pagefile': 478519296, 'private': 478519296, 'wset': 557699072, 'rss': 557699072, 'uss': 335446016, 'vms': 478519296}\n",
      "vo-0.ods: {'peak_nonpaged_pool': 62496, 'peak_paged_pool': 1542544, 'peak_pagefile': 478683136, 'nonpaged_pool': 62224, 'paged_pool': 1542544, 'peak_wset': 557711360, 'pagefile': 476487680, 'private': 476487680, 'wset': 555675648, 'rss': 555675648, 'uss': 333414400, 'vms': 476487680}\n",
      "vo-0.ods: {'peak_nonpaged_pool': 62496, 'peak_paged_pool': 1542544, 'peak_pagefile': 478683136, 'nonpaged_pool': 62224, 'paged_pool': 1542544, 'peak_wset': 557711360, 'pagefile': 476487680, 'private': 476487680, 'wset': 555675648, 'rss': 555675648, 'uss': 333414400, 'vms': 476487680}\n",
      "vo-0.ods: {'peak_nonpaged_pool': 62496, 'peak_paged_pool': 1542544, 'peak_pagefile': 478683136, 'nonpaged_pool': 62224, 'paged_pool': 1542544, 'peak_wset': 557711360, 'pagefile': 476487680, 'private': 476487680, 'wset': 555675648, 'rss': 555675648, 'uss': 333414400, 'vms': 476487680}\n",
      "vo-0.ods: {'peak_nonpaged_pool': 62496, 'peak_paged_pool': 1542544, 'peak_pagefile': 478683136, 'nonpaged_pool': 62224, 'paged_pool': 1542544, 'peak_wset': 557711360, 'pagefile': 476487680, 'private': 476487680, 'wset': 555675648, 'rss': 555675648, 'uss': 333414400, 'vms': 476487680}\n",
      "vo-10000.ods: {'peak_nonpaged_pool': 43360, 'peak_paged_pool': 288096, 'peak_pagefile': 413351936, 'nonpaged_pool': 42816, 'paged_pool': 287984, 'peak_wset': 55873536, 'pagefile': 410480640, 'private': 410480640, 'wset': 53219328, 'rss': 53219328, 'uss': 37605376, 'vms': 410480640}\n",
      "vo-10000.ods: {'peak_nonpaged_pool': 62768, 'peak_paged_pool': 1548936, 'peak_pagefile': 480817152, 'nonpaged_pool': 62496, 'paged_pool': 1548928, 'peak_wset': 561885184, 'pagefile': 480636928, 'private': 480636928, 'wset': 560250880, 'rss': 560250880, 'uss': 337510400, 'vms': 480636928}\n",
      "vo-10000.ods: {'peak_nonpaged_pool': 62768, 'peak_paged_pool': 1548992, 'peak_pagefile': 480817152, 'nonpaged_pool': 62224, 'paged_pool': 1449984, 'peak_wset': 561885184, 'pagefile': 480509952, 'private': 480509952, 'wset': 560349184, 'rss': 560349184, 'uss': 337608704, 'vms': 480509952}\n",
      "vo-10000.ods: {'peak_nonpaged_pool': 62768, 'peak_paged_pool': 1548992, 'peak_pagefile': 480817152, 'nonpaged_pool': 62224, 'paged_pool': 1449984, 'peak_wset': 561885184, 'pagefile': 480509952, 'private': 480509952, 'wset': 560349184, 'rss': 560349184, 'uss': 337608704, 'vms': 480509952}\n",
      "vo-10000.ods: {'peak_nonpaged_pool': 62768, 'peak_paged_pool': 1548992, 'peak_pagefile': 480817152, 'nonpaged_pool': 62224, 'paged_pool': 1449984, 'peak_wset': 561885184, 'pagefile': 480509952, 'private': 480509952, 'wset': 560349184, 'rss': 560349184, 'uss': 337608704, 'vms': 480509952}\n",
      "vo-10000.ods: {'peak_nonpaged_pool': 62768, 'peak_paged_pool': 1548992, 'peak_pagefile': 480817152, 'nonpaged_pool': 62224, 'paged_pool': 1449984, 'peak_wset': 561885184, 'pagefile': 480509952, 'private': 480509952, 'wset': 560349184, 'rss': 560349184, 'uss': 337608704, 'vms': 480509952}\n",
      "vo-10000.ods: {'peak_nonpaged_pool': 62768, 'peak_paged_pool': 1548992, 'peak_pagefile': 480817152, 'nonpaged_pool': 62224, 'paged_pool': 1449984, 'peak_wset': 561885184, 'pagefile': 480509952, 'private': 480509952, 'wset': 560357376, 'rss': 560357376, 'uss': 337608704, 'vms': 480509952}\n",
      "vo-10000.ods: {'peak_nonpaged_pool': 62768, 'peak_paged_pool': 1548992, 'peak_pagefile': 480817152, 'nonpaged_pool': 62224, 'paged_pool': 1449984, 'peak_wset': 561885184, 'pagefile': 480509952, 'private': 480509952, 'wset': 560357376, 'rss': 560357376, 'uss': 337608704, 'vms': 480509952}\n",
      "vo-10000.ods: {'peak_nonpaged_pool': 62768, 'peak_paged_pool': 1548992, 'peak_pagefile': 480817152, 'nonpaged_pool': 62224, 'paged_pool': 1449984, 'peak_wset': 561885184, 'pagefile': 480509952, 'private': 480509952, 'wset': 560353280, 'rss': 560353280, 'uss': 337608704, 'vms': 480509952}\n",
      "fv-10000.ods: {'peak_nonpaged_pool': 44000, 'peak_paged_pool': 288096, 'peak_pagefile': 413728768, 'nonpaged_pool': 43088, 'paged_pool': 287984, 'peak_wset': 56434688, 'pagefile': 411623424, 'private': 411623424, 'wset': 54329344, 'rss': 54329344, 'uss': 38547456, 'vms': 411623424}\n",
      "fv-10000.ods: {'peak_nonpaged_pool': 62360, 'peak_paged_pool': 1545296, 'peak_pagefile': 492998656, 'nonpaged_pool': 62360, 'paged_pool': 1448608, 'peak_wset': 547213312, 'pagefile': 492998656, 'private': 492998656, 'wset': 547209216, 'rss': 547209216, 'uss': 325627904, 'vms': 492998656}\n",
      "fv-10000.ods: {'peak_nonpaged_pool': 62616, 'peak_paged_pool': 1545296, 'peak_pagefile': 499892224, 'nonpaged_pool': 62360, 'paged_pool': 1527416, 'peak_wset': 579649536, 'pagefile': 499892224, 'private': 499892224, 'wset': 579620864, 'rss': 579620864, 'uss': 356626432, 'vms': 499892224}\n",
      "fv-10000.ods: {'peak_nonpaged_pool': 62616, 'peak_paged_pool': 1545296, 'peak_pagefile': 499892224, 'nonpaged_pool': 62360, 'paged_pool': 1527416, 'peak_wset': 579649536, 'pagefile': 499892224, 'private': 499892224, 'wset': 579620864, 'rss': 579620864, 'uss': 356626432, 'vms': 499892224}\n",
      "fv-10000.ods: {'peak_nonpaged_pool': 62616, 'peak_paged_pool': 1545296, 'peak_pagefile': 499892224, 'nonpaged_pool': 62360, 'paged_pool': 1527416, 'peak_wset': 579649536, 'pagefile': 499892224, 'private': 499892224, 'wset': 579620864, 'rss': 579620864, 'uss': 356626432, 'vms': 499892224}\n",
      "fv-10000.ods: {'peak_nonpaged_pool': 62616, 'peak_paged_pool': 1545296, 'peak_pagefile': 499892224, 'nonpaged_pool': 62360, 'paged_pool': 1527416, 'peak_wset': 579649536, 'pagefile': 499892224, 'private': 499892224, 'wset': 579629056, 'rss': 579629056, 'uss': 356626432, 'vms': 499892224}\n",
      "fv-10000.ods: {'peak_nonpaged_pool': 62616, 'peak_paged_pool': 1545296, 'peak_pagefile': 499892224, 'nonpaged_pool': 62360, 'paged_pool': 1527416, 'peak_wset': 579649536, 'pagefile': 499892224, 'private': 499892224, 'wset': 579629056, 'rss': 579629056, 'uss': 356626432, 'vms': 499892224}\n",
      "fv-10000.ods: {'peak_nonpaged_pool': 62616, 'peak_paged_pool': 1545296, 'peak_pagefile': 499892224, 'nonpaged_pool': 62360, 'paged_pool': 1527416, 'peak_wset': 579649536, 'pagefile': 499892224, 'private': 499892224, 'wset': 579629056, 'rss': 579629056, 'uss': 356626432, 'vms': 499892224}\n",
      "fv-10000.ods: {'peak_nonpaged_pool': 62616, 'peak_paged_pool': 1545296, 'peak_pagefile': 499892224, 'nonpaged_pool': 62360, 'paged_pool': 1527416, 'peak_wset': 579649536, 'pagefile': 499892224, 'private': 499892224, 'wset': 579629056, 'rss': 579629056, 'uss': 356626432, 'vms': 499892224}\n",
      "fv-0.ods: {'peak_nonpaged_pool': 44000, 'peak_paged_pool': 288096, 'peak_pagefile': 413728768, 'nonpaged_pool': 42680, 'paged_pool': 287984, 'peak_wset': 56434688, 'pagefile': 411521024, 'private': 411521024, 'wset': 54263808, 'rss': 54263808, 'uss': 38494208, 'vms': 411521024}\n",
      "fv-0.ods: {'peak_nonpaged_pool': 62224, 'peak_paged_pool': 1540912, 'peak_pagefile': 423477248, 'nonpaged_pool': 62224, 'paged_pool': 1540912, 'peak_wset': 503582720, 'pagefile': 423477248, 'private': 423477248, 'wset': 502816768, 'rss': 502816768, 'uss': 280416256, 'vms': 423477248}\n",
      "fv-0.ods: {'peak_nonpaged_pool': 62632, 'peak_paged_pool': 1547424, 'peak_pagefile': 479244288, 'nonpaged_pool': 62224, 'paged_pool': 1545616, 'peak_wset': 559611904, 'pagefile': 479031296, 'private': 479031296, 'wset': 558329856, 'rss': 558329856, 'uss': 335884288, 'vms': 479031296}\n",
      "fv-0.ods: {'peak_nonpaged_pool': 62632, 'peak_paged_pool': 1547424, 'peak_pagefile': 479244288, 'nonpaged_pool': 62224, 'paged_pool': 1545616, 'peak_wset': 559611904, 'pagefile': 479031296, 'private': 479031296, 'wset': 558329856, 'rss': 558329856, 'uss': 335884288, 'vms': 479031296}\n",
      "fv-0.ods: {'peak_nonpaged_pool': 62632, 'peak_paged_pool': 1547424, 'peak_pagefile': 479244288, 'nonpaged_pool': 62224, 'paged_pool': 1545616, 'peak_wset': 559611904, 'pagefile': 479031296, 'private': 479031296, 'wset': 558329856, 'rss': 558329856, 'uss': 335884288, 'vms': 479031296}\n",
      "fv-0.ods: {'peak_nonpaged_pool': 62632, 'peak_paged_pool': 1547424, 'peak_pagefile': 479244288, 'nonpaged_pool': 62224, 'paged_pool': 1545616, 'peak_wset': 559611904, 'pagefile': 479031296, 'private': 479031296, 'wset': 558329856, 'rss': 558329856, 'uss': 335884288, 'vms': 479031296}\n",
      "fv-0.ods: {'peak_nonpaged_pool': 62632, 'peak_paged_pool': 1547424, 'peak_pagefile': 479244288, 'nonpaged_pool': 62224, 'paged_pool': 1545616, 'peak_wset': 559611904, 'pagefile': 479031296, 'private': 479031296, 'wset': 558329856, 'rss': 558329856, 'uss': 335884288, 'vms': 479031296}\n",
      "fv-0.ods: {'peak_nonpaged_pool': 62632, 'peak_paged_pool': 1547424, 'peak_pagefile': 479244288, 'nonpaged_pool': 62224, 'paged_pool': 1545616, 'peak_wset': 559611904, 'pagefile': 479031296, 'private': 479031296, 'wset': 558329856, 'rss': 558329856, 'uss': 335884288, 'vms': 479031296}\n",
      "fv-0.ods: {'peak_nonpaged_pool': 62632, 'peak_paged_pool': 1547424, 'peak_pagefile': 479244288, 'nonpaged_pool': 62224, 'paged_pool': 1545616, 'peak_wset': 559611904, 'pagefile': 479031296, 'private': 479031296, 'wset': 558329856, 'rss': 558329856, 'uss': 335884288, 'vms': 479031296}\n",
      "\n",
      "Total time (HH:MM:SS): 00:01:10\n"
     ]
    }
   ],
   "source": [
    "util.run_vis(CONFIG_ARGS\n",
    "  , OUTPUT_PATH\n",
    "  , INTEGER_ARG\n",
    "  , SOFFICE_DIR\n",
    "  , fv_fig\n",
    "  , vo_fig\n",
    "  , barplt\n",
    "  , 'uss'\n",
    ")"
   ]
  },
  {
   "cell_type": "code",
   "execution_count": 7,
   "metadata": {},
   "outputs": [],
   "source": [
    "# Timing notes\n",
    "\n",
    "# EXCEL:\n",
    "# large-RCBS-1col (Python)\n",
    "#   Up to 1 million: Total time (HH:MM:SS): 06:56:18\n",
    "# RCBS-1col (Python)\n",
    "#   Up to 1 million: Total time (HH:MM:SS): 07:05:28\n",
    "# RCBS-1col (VBA)\n",
    "#   Up to 1 million: Total time (HH:MM:SS): 07:47:56\n",
    "# RLS-1col\n",
    "#   Up to 1 million: Total time (HH:MM:SS): 00:06:18\n",
    "# RSCS-1col (VBA)\n",
    "#   Up to 1 million: Total time (HH:MM:SS): 00:08:18\n",
    "# RLS-5col\n",
    "#   Up to 1 million: Total time (HH:MM:SS): 00:21:21"
   ]
  }
 ]
}