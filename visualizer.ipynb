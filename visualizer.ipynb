{
 "metadata": {
  "language_info": {
   "codemirror_mode": {
    "name": "ipython",
    "version": 3
   },
   "file_extension": ".py",
   "mimetype": "text/x-python",
   "name": "python",
   "nbconvert_exporter": "python",
   "pygments_lexer": "ipython3",
   "version": "3.9.1-final"
  },
  "orig_nbformat": 2,
  "kernelspec": {
   "name": "python391jvsc74a57bd05d250b42db54f88fc33c3fad5d81a51b515a02a56d2a09253abb33a4105e8cb0",
   "display_name": "Python 3.9.1 64-bit ('venv')"
  }
 },
 "nbformat": 4,
 "nbformat_minor": 2,
 "cells": [
  {
   "source": [
    "# Real-Time Experimental Results Visualizer"
   ],
   "cell_type": "markdown",
   "metadata": {}
  },
  {
   "source": [
    "## Setup"
   ],
   "cell_type": "markdown",
   "metadata": {}
  },
  {
   "cell_type": "code",
   "execution_count": null,
   "metadata": {},
   "outputs": [],
   "source": [
    "import plotly.graph_objects as go\n",
    "import pymem.utils.pipeline"
   ]
  },
  {
   "cell_type": "code",
   "execution_count": null,
   "metadata": {},
   "outputs": [],
   "source": [
    "fv_fig = go.FigureWidget(\n",
    "    layout=go.Layout(\n",
    "        title=go.layout.Title(text=\"Formula-Value Live Data\"),\n",
    "        xaxis=dict(title=\"Rows\"),\n",
    "        yaxis=dict(title=\"Formula Size (MB)\")\n",
    "    )\n",
    ")\n",
    "fv_fig.add_scatter(name='Formula-Value (MB)')\n",
    "fv_fig"
   ]
  },
  {
   "cell_type": "code",
   "execution_count": null,
   "metadata": {},
   "outputs": [],
   "source": [
    "vo_fig = go.FigureWidget(\n",
    "    layout=go.Layout(\n",
    "        title=go.layout.Title(text=\"Value-Only Live Data\"),\n",
    "        xaxis=dict(title=\"Rows\"),\n",
    "        yaxis=dict(title=\"Value Size (MB)\")\n",
    "    )\n",
    ")\n",
    "vo_fig.add_scatter(name='Value-Only (MB)')\n",
    "vo_fig"
   ]
  },
  {
   "cell_type": "code",
   "execution_count": null,
   "metadata": {},
   "outputs": [],
   "source": [
    "barplt = go.FigureWidget(\n",
    "    layout=go.Layout(\n",
    "        title=go.layout.Title(text=\"Live Data\"),\n",
    "        xaxis=dict(title=\"Rows\"),\n",
    "        yaxis=dict(title=\"Size (MB)\")\n",
    "    )\n",
    ")\n",
    "barplt.add_bar(name='Value-Only (MB)')\n",
    "barplt.add_bar(name='Formula-Value (MB)')\n",
    "barplt"
   ]
  },
  {
   "source": [
    "## Place your own settings here"
   ],
   "cell_type": "markdown",
   "metadata": {}
  },
  {
   "cell_type": "code",
   "execution_count": null,
   "metadata": {},
   "outputs": [],
   "source": [
    "# Input and output paths are relative to root directory\n",
    "INTEGER_ARG = 1\n",
    "OUTPUT_PATH = os.path.join(\"TEST\")\n",
    "SOFFICE_DIR = \"C:/Program Files/LibreOffice/program/soffice\"\n",
    "CONFIG_ARGS = pymem.utils.pipeline.ConfigArgs(\n",
    "    path=os.path.join(\"TEST\", \"dataset\")\n",
    "    , inst=\"CompleteBipartiteSum\"\n",
    "    , seed=42\n",
    "    , xlsx=False\n",
    "    , step=0\n",
    "    , rows=100\n",
    "    , cols=1\n",
    "    , itrs=1\n",
    "    , pool=1\n",
    ")"
   ]
  },
  {
   "source": [
    "## Run the following cell for real-time results"
   ],
   "cell_type": "markdown",
   "metadata": {}
  },
  {
   "cell_type": "code",
   "execution_count": null,
   "metadata": {
    "tags": [
     "outputPrepend"
    ]
   },
   "outputs": [],
   "source": [
    "# Column to plot must be one of:\n",
    "# 'peak_nonpaged_pool', 'peak_paged_pool', 'peak_pagefile', 'nonpaged_pool', \n",
    "# 'paged_pool', 'peak_wset', 'pagefile', 'private', 'wset', 'rss', 'uss', 'vms'\n",
    "pymem.utils.pipeline.run_vis(CONFIG_ARGS\n",
    "  , OUTPUT_PATH\n",
    "  , INTEGER_ARG\n",
    "  , SOFFICE_DIR\n",
    "  , fv_fig\n",
    "  , vo_fig\n",
    "  , barplt\n",
    "  , 'wset'\n",
    ")"
   ]
  },
  {
   "cell_type": "code",
   "execution_count": null,
   "metadata": {},
   "outputs": [],
   "source": []
  }
 ]
}