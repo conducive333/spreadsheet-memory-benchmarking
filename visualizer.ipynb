{
 "metadata": {
  "language_info": {
   "codemirror_mode": {
    "name": "ipython",
    "version": 3
   },
   "file_extension": ".py",
   "mimetype": "text/x-python",
   "name": "python",
   "nbconvert_exporter": "python",
   "pygments_lexer": "ipython3",
   "version": "3.9.1-final"
  },
  "orig_nbformat": 2,
  "kernelspec": {
   "name": "python391jvsc74a57bd05d250b42db54f88fc33c3fad5d81a51b515a02a56d2a09253abb33a4105e8cb0",
   "display_name": "Python 3.9.1 64-bit ('venv')"
  }
 },
 "nbformat": 4,
 "nbformat_minor": 2,
 "cells": [
  {
   "source": [
    "# Real-Time Experimental Results Visualizer"
   ],
   "cell_type": "markdown",
   "metadata": {}
  },
  {
   "source": [
    "## Setup"
   ],
   "cell_type": "markdown",
   "metadata": {}
  },
  {
   "cell_type": "code",
   "execution_count": 1,
   "metadata": {},
   "outputs": [],
   "source": [
    "import plotly.graph_objects as go\n",
    "import pymem.utils.pipeline"
   ]
  },
  {
   "cell_type": "code",
   "execution_count": 2,
   "metadata": {},
   "outputs": [
    {
     "output_type": "display_data",
     "data": {
      "text/plain": "FigureWidget({\n    'data': [{'name': 'Formula-Value (MB)', 'type': 'scatter', 'uid': '3fcb6a9a-64a0-4982-b7b1-…",
      "application/vnd.jupyter.widget-view+json": {
       "version_major": 2,
       "version_minor": 0,
       "model_id": "9d67deb6ea8447f9ac81cfc6346b51ac"
      }
     },
     "metadata": {}
    }
   ],
   "source": [
    "fv_fig = go.FigureWidget(\n",
    "    layout=go.Layout(\n",
    "        title=go.layout.Title(text=\"Formula-Value Live Data\"),\n",
    "        xaxis=dict(title=\"Rows\"),\n",
    "        yaxis=dict(title=\"Formula Size (MB)\")\n",
    "    )\n",
    ")\n",
    "fv_fig.add_scatter(name='Formula-Value (MB)')\n",
    "fv_fig"
   ]
  },
  {
   "cell_type": "code",
   "execution_count": 3,
   "metadata": {},
   "outputs": [
    {
     "output_type": "display_data",
     "data": {
      "text/plain": "FigureWidget({\n    'data': [{'name': 'Value-Only (MB)', 'type': 'scatter', 'uid': '214fd82d-9276-41ef-80ee-ce8…",
      "application/vnd.jupyter.widget-view+json": {
       "version_major": 2,
       "version_minor": 0,
       "model_id": "c3a40f693baf43a4961aa3047e2a3581"
      }
     },
     "metadata": {}
    }
   ],
   "source": [
    "vo_fig = go.FigureWidget(\n",
    "    layout=go.Layout(\n",
    "        title=go.layout.Title(text=\"Value-Only Live Data\"),\n",
    "        xaxis=dict(title=\"Rows\"),\n",
    "        yaxis=dict(title=\"Value Size (MB)\")\n",
    "    )\n",
    ")\n",
    "vo_fig.add_scatter(name='Value-Only (MB)')\n",
    "vo_fig"
   ]
  },
  {
   "cell_type": "code",
   "execution_count": 4,
   "metadata": {},
   "outputs": [
    {
     "output_type": "display_data",
     "data": {
      "text/plain": "FigureWidget({\n    'data': [{'name': 'Value-Only (MB)', 'type': 'bar', 'uid': '49fb0ba9-0255-4391-9240-7c7c77d…",
      "application/vnd.jupyter.widget-view+json": {
       "version_major": 2,
       "version_minor": 0,
       "model_id": "f2539910a9ab43c481fd2dce255cad8c"
      }
     },
     "metadata": {}
    }
   ],
   "source": [
    "barplt = go.FigureWidget(\n",
    "    layout=go.Layout(\n",
    "        title=go.layout.Title(text=\"Live Data\"),\n",
    "        xaxis=dict(title=\"Rows\"),\n",
    "        yaxis=dict(title=\"Size (MB)\")\n",
    "    )\n",
    ")\n",
    "barplt.add_bar(name='Value-Only (MB)')\n",
    "barplt.add_bar(name='Formula-Value (MB)')\n",
    "barplt"
   ]
  },
  {
   "source": [
    "## Place your own settings here"
   ],
   "cell_type": "markdown",
   "metadata": {}
  },
  {
   "cell_type": "code",
   "execution_count": 5,
   "metadata": {},
   "outputs": [],
   "source": [
    "# Input and output paths are relative to root directory\n",
    "INTEGER_ARG = 1\n",
    "OUTPUT_PATH = os.path.join(\"..\", \"experiments\", \"results\", \"libre\", \"experiment6\", \"r(same)cv-1sec-1col-5iter-main\", \"run1\")\n",
    "SOFFICE_DIR = \"C:/Program Files/LibreOffice/program/soffice\"\n",
    "CONFIG_ARGS = pymem.utils.pipeline.ConfigArgs(\n",
    "    path=os.path.join(\"..\", \"experiments\", \"results\", \"libre\", \"experiment6\", \"r(same)cv-1sec-1col-5iter-main\", \"dataset\")\n",
    "    , inst=\"CompleteBipartiteSum\"\n",
    "    , seed=42\n",
    "    , xlsx=False\n",
    "    , step=0\n",
    "    , rows=100\n",
    "    , cols=1\n",
    "    , itrs=1\n",
    "    , pool=1\n",
    ")"
   ]
  },
  {
   "source": [
    "## Run the following cell for real-time results"
   ],
   "cell_type": "markdown",
   "metadata": {}
  },
  {
   "cell_type": "code",
   "execution_count": 6,
   "metadata": {
    "tags": [
     "outputPrepend"
    ]
   },
   "outputs": [
    {
     "output_type": "stream",
     "name": "stdout",
     "text": [
      "8453120}\n",
      "fv-700000.ods: {'peak_nonpaged_pool': 60552, 'peak_paged_pool': 1023848, 'peak_pagefile': 1048555520, 'nonpaged_pool': 60008, 'paged_pool': 1022008, 'peak_wset': 984264704, 'pagefile': 1048453120, 'private': 1048453120, 'wset': 984166400, 'rss': 984166400, 'uss': 906395648, 'vms': 1048453120}\n",
      "fv-700000.ods: {'peak_nonpaged_pool': 60552, 'peak_paged_pool': 1023848, 'peak_pagefile': 1048555520, 'nonpaged_pool': 60008, 'paged_pool': 1022008, 'peak_wset': 984264704, 'pagefile': 1048453120, 'private': 1048453120, 'wset': 984166400, 'rss': 984166400, 'uss': 906395648, 'vms': 1048453120}\n",
      "fv-700000.ods: {'peak_nonpaged_pool': 60552, 'peak_paged_pool': 1023848, 'peak_pagefile': 1048555520, 'nonpaged_pool': 60008, 'paged_pool': 1022008, 'peak_wset': 984264704, 'pagefile': 1048453120, 'private': 1048453120, 'wset': 984170496, 'rss': 984170496, 'uss': 906395648, 'vms': 1048453120}\n",
      "fv-700000.ods: {'peak_nonpaged_pool': 60552, 'peak_paged_pool': 1023848, 'peak_pagefile': 1048555520, 'nonpaged_pool': 60008, 'paged_pool': 1022008, 'peak_wset': 984264704, 'pagefile': 1048453120, 'private': 1048453120, 'wset': 984170496, 'rss': 984170496, 'uss': 906395648, 'vms': 1048453120}\n",
      "fv-200000.ods: {'peak_nonpaged_pool': 46800, 'peak_paged_pool': 288080, 'peak_pagefile': 416235520, 'nonpaged_pool': 42816, 'paged_pool': 287968, 'peak_wset': 59006976, 'pagefile': 412024832, 'private': 412024832, 'wset': 54804480, 'rss': 54804480, 'uss': 38965248, 'vms': 412024832}\n",
      "fv-200000.ods: {'peak_nonpaged_pool': 46544, 'peak_paged_pool': 1008600, 'peak_pagefile': 120946688, 'nonpaged_pool': 46408, 'paged_pool': 911304, 'peak_wset': 174129152, 'pagefile': 120946688, 'private': 120946688, 'wset': 174125056, 'rss': 174125056, 'uss': 109977600, 'vms': 120946688}\n",
      "fv-200000.ods: {'peak_nonpaged_pool': 47360, 'peak_paged_pool': 1008600, 'peak_pagefile': 159428608, 'nonpaged_pool': 47224, 'paged_pool': 911304, 'peak_wset': 210436096, 'pagefile': 159428608, 'private': 159428608, 'wset': 210432000, 'rss': 210432000, 'uss': 146280448, 'vms': 159428608}\n",
      "fv-200000.ods: {'peak_nonpaged_pool': 48040, 'peak_paged_pool': 1008600, 'peak_pagefile': 231137280, 'nonpaged_pool': 47904, 'paged_pool': 907848, 'peak_wset': 280584192, 'pagefile': 231137280, 'private': 231137280, 'wset': 280580096, 'rss': 280580096, 'uss': 216399872, 'vms': 231137280}\n",
      "fv-200000.ods: {'peak_nonpaged_pool': 56064, 'peak_paged_pool': 1023784, 'peak_pagefile': 497160192, 'nonpaged_pool': 56064, 'paged_pool': 1023784, 'peak_wset': 468848640, 'pagefile': 497160192, 'private': 497160192, 'wset': 468844544, 'rss': 468844544, 'uss': 391188480, 'vms': 497160192}\n",
      "fv-200000.ods: {'peak_nonpaged_pool': 56472, 'peak_paged_pool': 1023848, 'peak_pagefile': 497516544, 'nonpaged_pool': 56064, 'paged_pool': 1022040, 'peak_wset': 469155840, 'pagefile': 497434624, 'private': 497434624, 'wset': 469135360, 'rss': 469135360, 'uss': 391438336, 'vms': 497434624}\n",
      "fv-200000.ods: {'peak_nonpaged_pool': 56472, 'peak_paged_pool': 1023848, 'peak_pagefile': 497516544, 'nonpaged_pool': 56064, 'paged_pool': 1022040, 'peak_wset': 469155840, 'pagefile': 497434624, 'private': 497434624, 'wset': 469143552, 'rss': 469143552, 'uss': 391438336, 'vms': 497434624}\n",
      "fv-200000.ods: {'peak_nonpaged_pool': 56472, 'peak_paged_pool': 1023848, 'peak_pagefile': 497516544, 'nonpaged_pool': 56064, 'paged_pool': 1022040, 'peak_wset': 469155840, 'pagefile': 497434624, 'private': 497434624, 'wset': 469143552, 'rss': 469143552, 'uss': 391438336, 'vms': 497434624}\n",
      "fv-200000.ods: {'peak_nonpaged_pool': 56472, 'peak_paged_pool': 1023848, 'peak_pagefile': 497516544, 'nonpaged_pool': 56064, 'paged_pool': 1022040, 'peak_wset': 469155840, 'pagefile': 497434624, 'private': 497434624, 'wset': 469143552, 'rss': 469143552, 'uss': 391438336, 'vms': 497434624}\n",
      "fv-200000.ods: {'peak_nonpaged_pool': 56472, 'peak_paged_pool': 1023848, 'peak_pagefile': 497516544, 'nonpaged_pool': 56064, 'paged_pool': 1022040, 'peak_wset': 469155840, 'pagefile': 497434624, 'private': 497434624, 'wset': 469143552, 'rss': 469143552, 'uss': 391438336, 'vms': 497434624}\n",
      "fv-200000.ods: {'peak_nonpaged_pool': 56472, 'peak_paged_pool': 1023848, 'peak_pagefile': 497516544, 'nonpaged_pool': 56064, 'paged_pool': 1022040, 'peak_wset': 469155840, 'pagefile': 497434624, 'private': 497434624, 'wset': 469143552, 'rss': 469143552, 'uss': 391438336, 'vms': 497434624}\n",
      "fv-200000.ods: {'peak_nonpaged_pool': 56472, 'peak_paged_pool': 1023848, 'peak_pagefile': 497516544, 'nonpaged_pool': 56064, 'paged_pool': 1022040, 'peak_wset': 469155840, 'pagefile': 497434624, 'private': 497434624, 'wset': 469143552, 'rss': 469143552, 'uss': 391438336, 'vms': 497434624}\n",
      "fv-200000.ods: {'peak_nonpaged_pool': 56472, 'peak_paged_pool': 1023848, 'peak_pagefile': 497516544, 'nonpaged_pool': 56064, 'paged_pool': 1022040, 'peak_wset': 469155840, 'pagefile': 497434624, 'private': 497434624, 'wset': 469143552, 'rss': 469143552, 'uss': 391438336, 'vms': 497434624}\n",
      "fv-100000.ods: {'peak_nonpaged_pool': 46800, 'peak_paged_pool': 288080, 'peak_pagefile': 416235520, 'nonpaged_pool': 42816, 'paged_pool': 287968, 'peak_wset': 59006976, 'pagefile': 412024832, 'private': 412024832, 'wset': 54804480, 'rss': 54804480, 'uss': 38965248, 'vms': 412024832}\n",
      "fv-100000.ods: {'peak_nonpaged_pool': 46664, 'peak_paged_pool': 1010360, 'peak_pagefile': 128733184, 'nonpaged_pool': 46544, 'paged_pool': 911320, 'peak_wset': 182108160, 'pagefile': 128733184, 'private': 128733184, 'wset': 182104064, 'rss': 182104064, 'uss': 117948416, 'vms': 128733184}\n",
      "fv-100000.ods: {'peak_nonpaged_pool': 52800, 'peak_paged_pool': 1017928, 'peak_pagefile': 281243648, 'nonpaged_pool': 52664, 'paged_pool': 1017928, 'peak_wset': 301355008, 'pagefile': 281243648, 'private': 281243648, 'wset': 301350912, 'rss': 301350912, 'uss': 233119744, 'vms': 281243648}\n",
      "fv-100000.ods: {'peak_nonpaged_pool': 55248, 'peak_paged_pool': 1023864, 'peak_pagefile': 391671808, 'nonpaged_pool': 54840, 'paged_pool': 1022056, 'peak_wset': 366587904, 'pagefile': 391593984, 'private': 391593984, 'wset': 366567424, 'rss': 366567424, 'uss': 288886784, 'vms': 391593984}\n",
      "fv-100000.ods: {'peak_nonpaged_pool': 55248, 'peak_paged_pool': 1023864, 'peak_pagefile': 391671808, 'nonpaged_pool': 54840, 'paged_pool': 1022056, 'peak_wset': 366587904, 'pagefile': 391593984, 'private': 391593984, 'wset': 366567424, 'rss': 366567424, 'uss': 288886784, 'vms': 391593984}\n",
      "fv-100000.ods: {'peak_nonpaged_pool': 55248, 'peak_paged_pool': 1023864, 'peak_pagefile': 391671808, 'nonpaged_pool': 54840, 'paged_pool': 1022056, 'peak_wset': 366587904, 'pagefile': 391593984, 'private': 391593984, 'wset': 366567424, 'rss': 366567424, 'uss': 288886784, 'vms': 391593984}\n",
      "fv-100000.ods: {'peak_nonpaged_pool': 55248, 'peak_paged_pool': 1023864, 'peak_pagefile': 391671808, 'nonpaged_pool': 54840, 'paged_pool': 1022056, 'peak_wset': 366587904, 'pagefile': 391593984, 'private': 391593984, 'wset': 366575616, 'rss': 366575616, 'uss': 288886784, 'vms': 391593984}\n",
      "fv-100000.ods: {'peak_nonpaged_pool': 55248, 'peak_paged_pool': 1023864, 'peak_pagefile': 391671808, 'nonpaged_pool': 54840, 'paged_pool': 1022056, 'peak_wset': 366587904, 'pagefile': 391593984, 'private': 391593984, 'wset': 366575616, 'rss': 366575616, 'uss': 288886784, 'vms': 391593984}\n",
      "fv-100000.ods: {'peak_nonpaged_pool': 55248, 'peak_paged_pool': 1023864, 'peak_pagefile': 391671808, 'nonpaged_pool': 54840, 'paged_pool': 1022056, 'peak_wset': 366587904, 'pagefile': 391593984, 'private': 391593984, 'wset': 366575616, 'rss': 366575616, 'uss': 288886784, 'vms': 391593984}\n",
      "fv-100000.ods: {'peak_nonpaged_pool': 55248, 'peak_paged_pool': 1023864, 'peak_pagefile': 391671808, 'nonpaged_pool': 54840, 'paged_pool': 1022056, 'peak_wset': 366587904, 'pagefile': 391593984, 'private': 391593984, 'wset': 366575616, 'rss': 366575616, 'uss': 288886784, 'vms': 391593984}\n",
      "fv-100000.ods: {'peak_nonpaged_pool': 55248, 'peak_paged_pool': 1023864, 'peak_pagefile': 391671808, 'nonpaged_pool': 54840, 'paged_pool': 1022056, 'peak_wset': 366587904, 'pagefile': 391593984, 'private': 391593984, 'wset': 366575616, 'rss': 366575616, 'uss': 288886784, 'vms': 391593984}\n",
      "fv-60000.ods: {'peak_nonpaged_pool': 46800, 'peak_paged_pool': 288080, 'peak_pagefile': 416235520, 'nonpaged_pool': 42816, 'paged_pool': 287968, 'peak_wset': 59006976, 'pagefile': 412024832, 'private': 412024832, 'wset': 54804480, 'rss': 54804480, 'uss': 38965248, 'vms': 412024832}\n",
      "fv-60000.ods: {'peak_nonpaged_pool': 46544, 'peak_paged_pool': 1008600, 'peak_pagefile': 110686208, 'nonpaged_pool': 46408, 'paged_pool': 911304, 'peak_wset': 164384768, 'pagefile': 110686208, 'private': 110686208, 'wset': 164376576, 'rss': 164376576, 'uss': 100253696, 'vms': 110686208}\n",
      "fv-60000.ods: {'peak_nonpaged_pool': 53888, 'peak_paged_pool': 1023784, 'peak_pagefile': 346705920, 'nonpaged_pool': 53888, 'paged_pool': 1023784, 'peak_wset': 325070848, 'pagefile': 346705920, 'private': 346705920, 'wset': 325066752, 'rss': 325066752, 'uss': 247435264, 'vms': 346705920}\n",
      "fv-60000.ods: {'peak_nonpaged_pool': 54296, 'peak_paged_pool': 1023848, 'peak_pagefile': 347078656, 'nonpaged_pool': 53888, 'paged_pool': 1022040, 'peak_wset': 325349376, 'pagefile': 346918912, 'private': 346918912, 'wset': 325328896, 'rss': 325328896, 'uss': 247652352, 'vms': 346918912}\n",
      "fv-60000.ods: {'peak_nonpaged_pool': 54296, 'peak_paged_pool': 1023848, 'peak_pagefile': 347078656, 'nonpaged_pool': 53888, 'paged_pool': 1022040, 'peak_wset': 325349376, 'pagefile': 346918912, 'private': 346918912, 'wset': 325328896, 'rss': 325328896, 'uss': 247652352, 'vms': 346918912}\n",
      "fv-60000.ods: {'peak_nonpaged_pool': 54296, 'peak_paged_pool': 1023848, 'peak_pagefile': 347078656, 'nonpaged_pool': 53888, 'paged_pool': 1022040, 'peak_wset': 325349376, 'pagefile': 346918912, 'private': 346918912, 'wset': 325328896, 'rss': 325328896, 'uss': 247652352, 'vms': 346918912}\n",
      "fv-60000.ods: {'peak_nonpaged_pool': 54296, 'peak_paged_pool': 1023848, 'peak_pagefile': 347078656, 'nonpaged_pool': 53888, 'paged_pool': 1022040, 'peak_wset': 325349376, 'pagefile': 346918912, 'private': 346918912, 'wset': 325337088, 'rss': 325337088, 'uss': 247652352, 'vms': 346918912}\n",
      "fv-60000.ods: {'peak_nonpaged_pool': 54296, 'peak_paged_pool': 1023848, 'peak_pagefile': 347078656, 'nonpaged_pool': 53888, 'paged_pool': 1022040, 'peak_wset': 325349376, 'pagefile': 346918912, 'private': 346918912, 'wset': 325337088, 'rss': 325337088, 'uss': 247652352, 'vms': 346918912}\n",
      "fv-60000.ods: {'peak_nonpaged_pool': 54296, 'peak_paged_pool': 1023848, 'peak_pagefile': 347078656, 'nonpaged_pool': 53888, 'paged_pool': 1022040, 'peak_wset': 325349376, 'pagefile': 346918912, 'private': 346918912, 'wset': 325337088, 'rss': 325337088, 'uss': 247652352, 'vms': 346918912}\n",
      "fv-60000.ods: {'peak_nonpaged_pool': 54296, 'peak_paged_pool': 1023848, 'peak_pagefile': 347078656, 'nonpaged_pool': 53888, 'paged_pool': 1022040, 'peak_wset': 325349376, 'pagefile': 346918912, 'private': 346918912, 'wset': 325337088, 'rss': 325337088, 'uss': 247652352, 'vms': 346918912}\n",
      "fv-60000.ods: {'peak_nonpaged_pool': 54296, 'peak_paged_pool': 1023848, 'peak_pagefile': 347078656, 'nonpaged_pool': 53888, 'paged_pool': 1022040, 'peak_wset': 325349376, 'pagefile': 346918912, 'private': 346918912, 'wset': 325337088, 'rss': 325337088, 'uss': 247652352, 'vms': 346918912}\n",
      "fv-600000.ods: {'peak_nonpaged_pool': 46800, 'peak_paged_pool': 288080, 'peak_pagefile': 416235520, 'nonpaged_pool': 42816, 'paged_pool': 287968, 'peak_wset': 59006976, 'pagefile': 412024832, 'private': 412024832, 'wset': 54804480, 'rss': 54804480, 'uss': 38965248, 'vms': 412024832}\n",
      "fv-600000.ods: {'peak_nonpaged_pool': 46544, 'peak_paged_pool': 1008600, 'peak_pagefile': 115265536, 'nonpaged_pool': 46408, 'paged_pool': 911304, 'peak_wset': 169082880, 'pagefile': 115265536, 'private': 115265536, 'wset': 169078784, 'rss': 169078784, 'uss': 104927232, 'vms': 115265536}\n",
      "fv-600000.ods: {'peak_nonpaged_pool': 47360, 'peak_paged_pool': 1008600, 'peak_pagefile': 152727552, 'nonpaged_pool': 47224, 'paged_pool': 911304, 'peak_wset': 203288576, 'pagefile': 152727552, 'private': 152727552, 'wset': 203284480, 'rss': 203284480, 'uss': 139407360, 'vms': 152727552}\n",
      "fv-600000.ods: {'peak_nonpaged_pool': 47632, 'peak_paged_pool': 1008600, 'peak_pagefile': 188452864, 'nonpaged_pool': 47632, 'paged_pool': 911304, 'peak_wset': 237334528, 'pagefile': 188452864, 'private': 188452864, 'wset': 237330432, 'rss': 237330432, 'uss': 173780992, 'vms': 188452864}\n",
      "fv-600000.ods: {'peak_nonpaged_pool': 48040, 'peak_paged_pool': 1008600, 'peak_pagefile': 226811904, 'nonpaged_pool': 47904, 'paged_pool': 911304, 'peak_wset': 272576512, 'pagefile': 226508800, 'private': 226508800, 'wset': 271605760, 'rss': 271605760, 'uss': 207454208, 'vms': 226508800}\n",
      "fv-600000.ods: {'peak_nonpaged_pool': 48176, 'peak_paged_pool': 1008600, 'peak_pagefile': 258101248, 'nonpaged_pool': 48176, 'paged_pool': 911272, 'peak_wset': 305614848, 'pagefile': 258101248, 'private': 258101248, 'wset': 305610752, 'rss': 305610752, 'uss': 241463296, 'vms': 258101248}\n",
      "fv-600000.ods: {'peak_nonpaged_pool': 48448, 'peak_paged_pool': 1008600, 'peak_pagefile': 299745280, 'nonpaged_pool': 48448, 'paged_pool': 911304, 'peak_wset': 340463616, 'pagefile': 299745280, 'private': 299745280, 'wset': 340459520, 'rss': 340459520, 'uss': 276393984, 'vms': 299745280}\n",
      "fv-600000.ods: {'peak_nonpaged_pool': 48584, 'peak_paged_pool': 1008600, 'peak_pagefile': 331378688, 'nonpaged_pool': 48584, 'paged_pool': 911304, 'peak_wset': 374558720, 'pagefile': 331378688, 'private': 331378688, 'wset': 374554624, 'rss': 374554624, 'uss': 310824960, 'vms': 331378688}\n",
      "fv-600000.ods: {'peak_nonpaged_pool': 49400, 'peak_paged_pool': 1008600, 'peak_pagefile': 406401024, 'nonpaged_pool': 49128, 'paged_pool': 907848, 'peak_wset': 448368640, 'pagefile': 406401024, 'private': 406401024, 'wset': 448364544, 'rss': 448364544, 'uss': 384229376, 'vms': 406401024}\n",
      "fv-600000.ods: {'peak_nonpaged_pool': 50080, 'peak_paged_pool': 1008600, 'peak_pagefile': 501280768, 'nonpaged_pool': 49944, 'paged_pool': 907848, 'peak_wset': 538066944, 'pagefile': 501280768, 'private': 501280768, 'wset': 538062848, 'rss': 538062848, 'uss': 474361856, 'vms': 501280768}\n",
      "fv-600000.ods: {'peak_nonpaged_pool': 50896, 'peak_paged_pool': 1008600, 'peak_pagefile': 595652608, 'nonpaged_pool': 50624, 'paged_pool': 907848, 'peak_wset': 627269632, 'pagefile': 595652608, 'private': 595652608, 'wset': 627265536, 'rss': 627265536, 'uss': 563556352, 'vms': 595652608}\n",
      "fv-600000.ods: {'peak_nonpaged_pool': 54376, 'peak_paged_pool': 1013296, 'peak_pagefile': 746967040, 'nonpaged_pool': 54296, 'paged_pool': 1011488, 'peak_wset': 777523200, 'pagefile': 746967040, 'private': 746967040, 'wset': 777519104, 'rss': 777519104, 'uss': 706363392, 'vms': 746967040}\n",
      "fv-600000.ods: {'peak_nonpaged_pool': 59736, 'peak_paged_pool': 1023848, 'peak_pagefile': 931225600, 'nonpaged_pool': 59328, 'paged_pool': 1022040, 'peak_wset': 881053696, 'pagefile': 931065856, 'private': 931065856, 'wset': 881033216, 'rss': 881033216, 'uss': 803315712, 'vms': 931065856}\n",
      "fv-600000.ods: {'peak_nonpaged_pool': 59736, 'peak_paged_pool': 1023848, 'peak_pagefile': 931225600, 'nonpaged_pool': 59328, 'paged_pool': 1022040, 'peak_wset': 881053696, 'pagefile': 931065856, 'private': 931065856, 'wset': 881037312, 'rss': 881037312, 'uss': 803315712, 'vms': 931065856}\n",
      "fv-600000.ods: {'peak_nonpaged_pool': 59736, 'peak_paged_pool': 1023848, 'peak_pagefile': 931225600, 'nonpaged_pool': 59328, 'paged_pool': 1022040, 'peak_wset': 881053696, 'pagefile': 931065856, 'private': 931065856, 'wset': 881037312, 'rss': 881037312, 'uss': 803315712, 'vms': 931065856}\n",
      "fv-600000.ods: {'peak_nonpaged_pool': 59736, 'peak_paged_pool': 1023848, 'peak_pagefile': 931225600, 'nonpaged_pool': 59328, 'paged_pool': 1022040, 'peak_wset': 881053696, 'pagefile': 931065856, 'private': 931065856, 'wset': 881037312, 'rss': 881037312, 'uss': 803315712, 'vms': 931065856}\n",
      "fv-600000.ods: {'peak_nonpaged_pool': 59736, 'peak_paged_pool': 1023848, 'peak_pagefile': 931225600, 'nonpaged_pool': 59328, 'paged_pool': 1022040, 'peak_wset': 881213440, 'pagefile': 931065856, 'private': 931065856, 'wset': 881127424, 'rss': 881127424, 'uss': 803315712, 'vms': 931065856}\n",
      "fv-600000.ods: {'peak_nonpaged_pool': 59736, 'peak_paged_pool': 1023848, 'peak_pagefile': 931225600, 'nonpaged_pool': 59328, 'paged_pool': 1022040, 'peak_wset': 881213440, 'pagefile': 931065856, 'private': 931065856, 'wset': 881127424, 'rss': 881127424, 'uss': 803315712, 'vms': 931065856}\n",
      "fv-600000.ods: {'peak_nonpaged_pool': 59736, 'peak_paged_pool': 1023848, 'peak_pagefile': 931225600, 'nonpaged_pool': 59192, 'paged_pool': 1022008, 'peak_wset': 881213440, 'pagefile': 931065856, 'private': 931065856, 'wset': 881111040, 'rss': 881111040, 'uss': 803315712, 'vms': 931065856}\n",
      "fv-90000.ods: {'peak_nonpaged_pool': 46800, 'peak_paged_pool': 288240, 'peak_pagefile': 416235520, 'nonpaged_pool': 42816, 'paged_pool': 287968, 'peak_wset': 59006976, 'pagefile': 412033024, 'private': 412033024, 'wset': 54812672, 'rss': 54812672, 'uss': 38973440, 'vms': 412033024}\n",
      "fv-90000.ods: {'peak_nonpaged_pool': 46544, 'peak_paged_pool': 1008600, 'peak_pagefile': 121597952, 'nonpaged_pool': 46544, 'paged_pool': 911304, 'peak_wset': 174993408, 'pagefile': 121597952, 'private': 121597952, 'wset': 174989312, 'rss': 174989312, 'uss': 110837760, 'vms': 121597952}\n",
      "fv-90000.ods: {'peak_nonpaged_pool': 52120, 'peak_paged_pool': 1017912, 'peak_pagefile': 377200640, 'nonpaged_pool': 52120, 'paged_pool': 1017912, 'peak_wset': 332603392, 'pagefile': 377200640, 'private': 377200640, 'wset': 332599296, 'rss': 332599296, 'uss': 275050496, 'vms': 377200640}\n",
      "fv-90000.ods: {'peak_nonpaged_pool': 54568, 'peak_paged_pool': 1023848, 'peak_pagefile': 378707968, 'nonpaged_pool': 54160, 'paged_pool': 1022040, 'peak_wset': 355786752, 'pagefile': 378548224, 'private': 378548224, 'wset': 355766272, 'rss': 355766272, 'uss': 278085632, 'vms': 378548224}\n",
      "fv-90000.ods: {'peak_nonpaged_pool': 54568, 'peak_paged_pool': 1023848, 'peak_pagefile': 378707968, 'nonpaged_pool': 54160, 'paged_pool': 1022040, 'peak_wset': 355786752, 'pagefile': 378548224, 'private': 378548224, 'wset': 355766272, 'rss': 355766272, 'uss': 278085632, 'vms': 378548224}\n",
      "fv-90000.ods: {'peak_nonpaged_pool': 54568, 'peak_paged_pool': 1023848, 'peak_pagefile': 378707968, 'nonpaged_pool': 54160, 'paged_pool': 1022040, 'peak_wset': 355786752, 'pagefile': 378548224, 'private': 378548224, 'wset': 355766272, 'rss': 355766272, 'uss': 278085632, 'vms': 378548224}\n",
      "fv-90000.ods: {'peak_nonpaged_pool': 54568, 'peak_paged_pool': 1023848, 'peak_pagefile': 378707968, 'nonpaged_pool': 54160, 'paged_pool': 1022040, 'peak_wset': 355786752, 'pagefile': 378548224, 'private': 378548224, 'wset': 355774464, 'rss': 355774464, 'uss': 278085632, 'vms': 378548224}\n",
      "fv-90000.ods: {'peak_nonpaged_pool': 54568, 'peak_paged_pool': 1023848, 'peak_pagefile': 378707968, 'nonpaged_pool': 54160, 'paged_pool': 1022040, 'peak_wset': 355786752, 'pagefile': 378548224, 'private': 378548224, 'wset': 355774464, 'rss': 355774464, 'uss': 278085632, 'vms': 378548224}\n",
      "fv-90000.ods: {'peak_nonpaged_pool': 54568, 'peak_paged_pool': 1023848, 'peak_pagefile': 378707968, 'nonpaged_pool': 54160, 'paged_pool': 1022040, 'peak_wset': 355786752, 'pagefile': 378548224, 'private': 378548224, 'wset': 355774464, 'rss': 355774464, 'uss': 278085632, 'vms': 378548224}\n",
      "fv-90000.ods: {'peak_nonpaged_pool': 54568, 'peak_paged_pool': 1023848, 'peak_pagefile': 378707968, 'nonpaged_pool': 54160, 'paged_pool': 1022040, 'peak_wset': 355786752, 'pagefile': 378548224, 'private': 378548224, 'wset': 355774464, 'rss': 355774464, 'uss': 278085632, 'vms': 378548224}\n",
      "fv-90000.ods: {'peak_nonpaged_pool': 54568, 'peak_paged_pool': 1023848, 'peak_pagefile': 378707968, 'nonpaged_pool': 54160, 'paged_pool': 1022040, 'peak_wset': 355786752, 'pagefile': 378548224, 'private': 378548224, 'wset': 355774464, 'rss': 355774464, 'uss': 278085632, 'vms': 378548224}\n",
      "\n",
      "Total time (HH:MM:SS): 00:15:23\n"
     ]
    }
   ],
   "source": [
    "# Column to plot must be one of:\n",
    "# 'peak_nonpaged_pool', 'peak_paged_pool', 'peak_pagefile', 'nonpaged_pool', \n",
    "# 'paged_pool', 'peak_wset', 'pagefile', 'private', 'wset', 'rss', 'uss', 'vms'\n",
    "pymem.utils.pipeline.run_vis(CONFIG_ARGS\n",
    "  , OUTPUT_PATH\n",
    "  , INTEGER_ARG\n",
    "  , SOFFICE_DIR\n",
    "  , fv_fig\n",
    "  , vo_fig\n",
    "  , barplt\n",
    "  , 'wset'\n",
    ")"
   ]
  },
  {
   "cell_type": "code",
   "execution_count": null,
   "metadata": {},
   "outputs": [],
   "source": []
  }
 ]
}