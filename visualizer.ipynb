{
 "metadata": {
  "language_info": {
   "codemirror_mode": {
    "name": "ipython",
    "version": 3
   },
   "file_extension": ".py",
   "mimetype": "text/x-python",
   "name": "python",
   "nbconvert_exporter": "python",
   "pygments_lexer": "ipython3",
   "version": "3.9.1-final"
  },
  "orig_nbformat": 2,
  "kernelspec": {
   "name": "python3",
   "display_name": "Python 3.9.1 64-bit ('venv')",
   "metadata": {
    "interpreter": {
     "hash": "eac5fd4f3b87df99de86ad020418d85b202268d4b21f8e6ebb10ed7c9c0fe4d2"
    }
   }
  }
 },
 "nbformat": 4,
 "nbformat_minor": 2,
 "cells": [
  {
   "source": [
    "# Real-Time Experimental Results Visualizer"
   ],
   "cell_type": "markdown",
   "metadata": {}
  },
  {
   "source": [
    "## Setup"
   ],
   "cell_type": "markdown",
   "metadata": {}
  },
  {
   "cell_type": "code",
   "execution_count": 1,
   "metadata": {},
   "outputs": [],
   "source": [
    "import pymem.utils.pipeline as pipeline\n",
    "import plotly.graph_objects as go"
   ]
  },
  {
   "cell_type": "code",
   "execution_count": 2,
   "metadata": {},
   "outputs": [
    {
     "output_type": "display_data",
     "data": {
      "text/plain": "FigureWidget({\n    'data': [{'name': 'Formula-Value (MB)', 'type': 'scatter', 'uid': '4e946748-9439-4af0-8232-…",
      "application/vnd.jupyter.widget-view+json": {
       "version_major": 2,
       "version_minor": 0,
       "model_id": "26e42da9f4964a9da9fd2460e50bfc85"
      }
     },
     "metadata": {}
    }
   ],
   "source": [
    "fv_fig = go.FigureWidget(\n",
    "    layout=go.Layout(\n",
    "        title=go.layout.Title(text=\"Formula-Value Live Data\"),\n",
    "        xaxis=dict(title=\"Rows\"),\n",
    "        yaxis=dict(title=\"Formula Size (MB)\")\n",
    "    )\n",
    ")\n",
    "fv_fig.add_scatter(name='Formula-Value (MB)')\n",
    "fv_fig"
   ]
  },
  {
   "cell_type": "code",
   "execution_count": 3,
   "metadata": {},
   "outputs": [
    {
     "output_type": "display_data",
     "data": {
      "text/plain": "FigureWidget({\n    'data': [{'name': 'Value-Only (MB)', 'type': 'scatter', 'uid': '1640596e-eedf-4cdc-92da-072…",
      "application/vnd.jupyter.widget-view+json": {
       "version_major": 2,
       "version_minor": 0,
       "model_id": "6f0fc4ee5e0d4934bf0ec1cd04316b1b"
      }
     },
     "metadata": {}
    }
   ],
   "source": [
    "vo_fig = go.FigureWidget(\n",
    "    layout=go.Layout(\n",
    "        title=go.layout.Title(text=\"Value-Only Live Data\"),\n",
    "        xaxis=dict(title=\"Rows\"),\n",
    "        yaxis=dict(title=\"Value Size (MB)\")\n",
    "    )\n",
    ")\n",
    "vo_fig.add_scatter(name='Value-Only (MB)')\n",
    "vo_fig"
   ]
  },
  {
   "cell_type": "code",
   "execution_count": 4,
   "metadata": {},
   "outputs": [
    {
     "output_type": "display_data",
     "data": {
      "text/plain": "FigureWidget({\n    'data': [{'name': 'Value-Only (MB)', 'type': 'bar', 'uid': '4ac626e6-62cb-4352-94cc-8129b43…",
      "application/vnd.jupyter.widget-view+json": {
       "version_major": 2,
       "version_minor": 0,
       "model_id": "1acb4268d08d4d7bb68481e207e507f5"
      }
     },
     "metadata": {}
    }
   ],
   "source": [
    "barplt = go.FigureWidget(\n",
    "    layout=go.Layout(\n",
    "        title=go.layout.Title(text=\"Live Data\"),\n",
    "        xaxis=dict(title=\"Rows\"),\n",
    "        yaxis=dict(title=\"Size (MB)\")\n",
    "    )\n",
    ")\n",
    "barplt.add_bar(name='Value-Only (MB)')\n",
    "barplt.add_bar(name='Formula-Value (MB)')\n",
    "barplt"
   ]
  },
  {
   "source": [
    "## Place your own settings here"
   ],
   "cell_type": "markdown",
   "metadata": {}
  },
  {
   "cell_type": "code",
   "execution_count": 5,
   "metadata": {},
   "outputs": [],
   "source": [
    "# Input and output paths are relative to root directory\n",
    "INTEGER_ARG = 5\n",
    "OUTPUT_PATH = os.path.join(\"experiments\", \"results\", \"excel\", \"rcbs-5trials-rand-1col\", \"run2\")\n",
    "SOFFICE_DIR = \"C:/Program Files/LibreOffice/program/soffice\"\n",
    "CONFIG_ARGS = pipeline.ConfigArgs(\n",
    "    path=os.path.join(\"experiments\", \"results\", \"excel\", \"rcbs-5trials-rand-1col\", \"dataset\")\n",
    "    , inst=\"CompleteBipartiteSum\"\n",
    "    , rand=42\n",
    "    , xlsx=True\n",
    "    , step=10000\n",
    "    , rows=0\n",
    "    , cols=1\n",
    "    , itrs=11\n",
    "    , pool=5\n",
    ")"
   ]
  },
  {
   "source": [
    "## Run the following cell for real-time results"
   ],
   "cell_type": "markdown",
   "metadata": {}
  },
  {
   "cell_type": "code",
   "execution_count": 6,
   "metadata": {
    "tags": [
     "outputPrepend"
    ]
   },
   "outputs": [
    {
     "output_type": "stream",
     "name": "stdout",
     "text": [
      " (MB)': 86.92258133333333, 'Value private (MB)': 86.92258133333333, 'Value wset (MB)': 141.709312, 'Value rss (MB)': 141.709312, 'Value uss (MB)': 62.737066666666664, 'Value vms (MB)': 86.92258133333333, 'Formula peak_nonpaged_pool (MB)': 0.06504266666666667, 'Formula peak_paged_pool (MB)': 1.5551253333333332, 'Formula peak_pagefile (MB)': 95.453184, 'Formula nonpaged_pool (MB)': 0.06380533333333334, 'Formula paged_pool (MB)': 1.514624, 'Formula peak_wset (MB)': 155.42272, 'Formula pagefile (MB)': 94.85789866666667, 'Formula private (MB)': 94.85789866666667, 'Formula wset (MB)': 154.689536, 'Formula rss (MB)': 154.689536, 'Formula uss (MB)': 69.90097066666667, 'Formula vms (MB)': 94.85789866666667}\n",
      "Opening fv-90000.xlsx (trial 1)\n",
      "Opening fv-90000.xlsx (trial 2)\n",
      "Opening fv-90000.xlsx (trial 3)\n",
      "Opening fv-90000.xlsx (trial 4)\n",
      "Opening fv-90000.xlsx (trial 5)\n",
      "{'Value peak_nonpaged_pool (MB)': 0.06317066666666667, 'Value peak_paged_pool (MB)': 1.533144, 'Value peak_pagefile (MB)': 89.74336, 'Value nonpaged_pool (MB)': 0.06272, 'Value paged_pool (MB)': 1.49832, 'Value peak_wset (MB)': 144.09728, 'Value pagefile (MB)': 89.735168, 'Value private (MB)': 89.735168, 'Value wset (MB)': 144.0768, 'Value rss (MB)': 144.0768, 'Value uss (MB)': 65.142784, 'Value vms (MB)': 89.735168, 'Formula peak_nonpaged_pool (MB)': 0.065424, 'Formula peak_paged_pool (MB)': 1.552264, 'Formula peak_pagefile (MB)': 101.261312, 'Formula nonpaged_pool (MB)': 0.06395466666666666, 'Formula paged_pool (MB)': 1.5120213333333332, 'Formula peak_wset (MB)': 160.878592, 'Formula pagefile (MB)': 100.02295466666668, 'Formula private (MB)': 100.02295466666668, 'Formula wset (MB)': 159.74126933333335, 'Formula rss (MB)': 159.74126933333335, 'Formula uss (MB)': 74.78613333333332, 'Formula vms (MB)': 100.02295466666668}\n",
      "Opening fv-600000.xlsx (trial 1)\n",
      "Opening fv-600000.xlsx (trial 2)\n",
      "Opening fv-600000.xlsx (trial 3)\n",
      "Opening fv-600000.xlsx (trial 4)\n",
      "Opening fv-600000.xlsx (trial 5)\n",
      "{'Value peak_nonpaged_pool (MB)': 0.06428266666666667, 'Value peak_paged_pool (MB)': 1.5513493333333332, 'Value peak_pagefile (MB)': 126.79168, 'Value nonpaged_pool (MB)': 0.06317333333333333, 'Value paged_pool (MB)': 1.5103253333333333, 'Value peak_wset (MB)': 180.269056, 'Value pagefile (MB)': 120.07697066666667, 'Value private (MB)': 120.07697066666667, 'Value wset (MB)': 178.958336, 'Value rss (MB)': 178.958336, 'Value uss (MB)': 94.69815466666667, 'Value vms (MB)': 120.07697066666667, 'Formula peak_nonpaged_pool (MB)': 0.064464, 'Formula peak_paged_pool (MB)': 1.555784, 'Formula peak_pagefile (MB)': 199.950336, 'Formula nonpaged_pool (MB)': 0.054312, 'Formula paged_pool (MB)': 1.49588, 'Formula peak_wset (MB)': 258.465792, 'Formula pagefile (MB)': 193.073152, 'Formula private (MB)': 193.073152, 'Formula wset (MB)': 246.49591466666666, 'Formula rss (MB)': 246.49591466666666, 'Formula uss (MB)': 161.23221333333333, 'Formula vms (MB)': 193.073152}\n",
      "Opening fv-900000.xlsx (trial 1)\n",
      "Opening fv-900000.xlsx (trial 2)\n",
      "Opening fv-900000.xlsx (trial 3)\n",
      "Opening fv-900000.xlsx (trial 4)\n",
      "Opening fv-900000.xlsx (trial 5)\n",
      "{'Value peak_nonpaged_pool (MB)': 0.06476, 'Value peak_paged_pool (MB)': 1.5650026666666668, 'Value peak_pagefile (MB)': 144.318464, 'Value nonpaged_pool (MB)': 0.063936, 'Value paged_pool (MB)': 1.5143226666666667, 'Value peak_wset (MB)': 198.44437333333335, 'Value pagefile (MB)': 139.493376, 'Value private (MB)': 139.493376, 'Value wset (MB)': 198.12352, 'Value rss (MB)': 198.12352, 'Value uss (MB)': 114.05994666666668, 'Value vms (MB)': 139.493376, 'Formula peak_nonpaged_pool (MB)': 0.064872, 'Formula peak_paged_pool (MB)': 1.54632, 'Formula peak_pagefile (MB)': 245.74634666666665, 'Formula nonpaged_pool (MB)': 0.0534, 'Formula paged_pool (MB)': 1.4694666666666667, 'Formula peak_wset (MB)': 297.357312, 'Formula pagefile (MB)': 245.08279466666664, 'Formula private (MB)': 245.08279466666664, 'Formula wset (MB)': 257.58242133333334, 'Formula rss (MB)': 257.58242133333334, 'Formula uss (MB)': 177.97666133333334, 'Formula vms (MB)': 245.08279466666664}\n",
      "Opening fv-300000.xlsx (trial 1)\n",
      "Opening fv-300000.xlsx (trial 2)\n",
      "Opening fv-300000.xlsx (trial 3)\n",
      "Opening fv-300000.xlsx (trial 4)\n",
      "Opening fv-300000.xlsx (trial 5)\n",
      "{'Value peak_nonpaged_pool (MB)': 0.06326133333333334, 'Value peak_paged_pool (MB)': 1.534512, 'Value peak_pagefile (MB)': 101.67364266666667, 'Value nonpaged_pool (MB)': 0.06240266666666666, 'Value paged_pool (MB)': 1.5019946666666668, 'Value peak_wset (MB)': 157.57448533333334, 'Value pagefile (MB)': 101.666816, 'Value private (MB)': 101.666816, 'Value wset (MB)': 157.523968, 'Value rss (MB)': 157.523968, 'Value uss (MB)': 76.90513066666666, 'Value vms (MB)': 101.666816, 'Formula peak_nonpaged_pool (MB)': 0.064272, 'Formula peak_paged_pool (MB)': 1.560848, 'Formula peak_pagefile (MB)': 139.194368, 'Formula nonpaged_pool (MB)': 0.05527733333333334, 'Formula paged_pool (MB)': 1.5102453333333332, 'Formula peak_wset (MB)': 196.304896, 'Formula pagefile (MB)': 136.8064, 'Formula private (MB)': 136.8064, 'Formula wset (MB)': 194.33745066666665, 'Formula rss (MB)': 194.33745066666665, 'Formula uss (MB)': 108.19310933333333, 'Formula vms (MB)': 136.8064}\n",
      "Opening fv-30000.xlsx (trial 1)\n",
      "Opening fv-30000.xlsx (trial 2)\n",
      "Opening fv-30000.xlsx (trial 3)\n",
      "Opening fv-30000.xlsx (trial 4)\n",
      "Opening fv-30000.xlsx (trial 5)\n",
      "{'Value peak_nonpaged_pool (MB)': 0.06278933333333334, 'Value peak_paged_pool (MB)': 1.533, 'Value peak_pagefile (MB)': 85.798912, 'Value nonpaged_pool (MB)': 0.06233866666666667, 'Value paged_pool (MB)': 1.4996, 'Value peak_wset (MB)': 140.414976, 'Value pagefile (MB)': 85.79072, 'Value private (MB)': 85.79072, 'Value wset (MB)': 140.38766933333335, 'Value rss (MB)': 140.38766933333335, 'Value uss (MB)': 61.427712, 'Value vms (MB)': 85.79072, 'Formula peak_nonpaged_pool (MB)': 0.065168, 'Formula peak_paged_pool (MB)': 1.5480506666666667, 'Formula peak_pagefile (MB)': 89.427968, 'Formula nonpaged_pool (MB)': 0.06377866666666666, 'Formula paged_pool (MB)': 1.5226986666666666, 'Formula peak_wset (MB)': 149.712896, 'Formula pagefile (MB)': 89.01154133333333, 'Formula private (MB)': 89.01154133333333, 'Formula wset (MB)': 148.88004266666667, 'Formula rss (MB)': 148.88004266666667, 'Formula uss (MB)': 64.19797333333334, 'Formula vms (MB)': 89.01154133333333}\n",
      "Opening fv-200000.xlsx (trial 1)\n",
      "Opening fv-200000.xlsx (trial 2)\n",
      "Opening fv-200000.xlsx (trial 3)\n",
      "Opening fv-200000.xlsx (trial 4)\n",
      "Opening fv-200000.xlsx (trial 5)\n",
      "{'Value peak_nonpaged_pool (MB)': 0.063464, 'Value peak_paged_pool (MB)': 1.536936, 'Value peak_pagefile (MB)': 96.88814933333333, 'Value nonpaged_pool (MB)': 0.062856, 'Value paged_pool (MB)': 1.499344, 'Value peak_wset (MB)': 150.64814933333335, 'Value pagefile (MB)': 96.79394133333332, 'Value private (MB)': 96.79394133333332, 'Value wset (MB)': 150.618112, 'Value rss (MB)': 150.618112, 'Value uss (MB)': 71.7824, 'Value vms (MB)': 96.79394133333332, 'Formula peak_nonpaged_pool (MB)': 0.063656, 'Formula peak_paged_pool (MB)': 1.544032, 'Formula peak_pagefile (MB)': 121.085952, 'Formula nonpaged_pool (MB)': 0.056152, 'Formula paged_pool (MB)': 1.503296, 'Formula peak_wset (MB)': 181.899264, 'Formula pagefile (MB)': 118.33480533333334, 'Formula private (MB)': 118.33480533333334, 'Formula wset (MB)': 178.44906666666665, 'Formula rss (MB)': 178.44906666666665, 'Formula uss (MB)': 92.41531733333333, 'Formula vms (MB)': 118.33480533333334}\n",
      "Opening fv-0.xlsx (trial 1)\n",
      "Opening fv-0.xlsx (trial 2)\n",
      "Opening fv-0.xlsx (trial 3)\n",
      "Opening fv-0.xlsx (trial 4)\n",
      "Opening fv-0.xlsx (trial 5)\n",
      "{'Value peak_nonpaged_pool (MB)': 0.062184, 'Value peak_paged_pool (MB)': 1.531096, 'Value peak_pagefile (MB)': 84.0704, 'Value nonpaged_pool (MB)': 0.061576, 'Value paged_pool (MB)': 1.49832, 'Value peak_wset (MB)': 138.42432, 'Value pagefile (MB)': 84.05947733333333, 'Value private (MB)': 84.05947733333333, 'Value wset (MB)': 138.41749333333334, 'Value rss (MB)': 138.41749333333334, 'Value uss (MB)': 59.614549333333336, 'Value vms (MB)': 84.05947733333333, 'Formula peak_nonpaged_pool (MB)': 0.062864, 'Formula peak_paged_pool (MB)': 1.535352, 'Formula peak_pagefile (MB)': 84.13047466666667, 'Formula nonpaged_pool (MB)': 0.062256, 'Formula paged_pool (MB)': 1.502576, 'Formula peak_wset (MB)': 138.34376533333335, 'Formula pagefile (MB)': 84.12228266666668, 'Formula private (MB)': 84.12228266666668, 'Formula wset (MB)': 138.33966933333335, 'Formula rss (MB)': 138.33966933333335, 'Formula uss (MB)': 59.583146666666664, 'Formula vms (MB)': 84.12228266666668}\n",
      "Opening fv-40000.xlsx (trial 1)\n",
      "Opening fv-40000.xlsx (trial 2)\n",
      "Opening fv-40000.xlsx (trial 3)\n",
      "Opening fv-40000.xlsx (trial 4)\n",
      "Opening fv-40000.xlsx (trial 5)\n",
      "{'Value peak_nonpaged_pool (MB)': 0.06265333333333334, 'Value peak_paged_pool (MB)': 1.53052, 'Value peak_pagefile (MB)': 86.30954666666668, 'Value nonpaged_pool (MB)': 0.06220266666666666, 'Value paged_pool (MB)': 1.49688, 'Value peak_wset (MB)': 141.15362133333335, 'Value pagefile (MB)': 86.30135466666667, 'Value private (MB)': 86.30135466666667, 'Value wset (MB)': 141.135872, 'Value rss (MB)': 141.135872, 'Value uss (MB)': 62.21824, 'Value vms (MB)': 86.30135466666667, 'Formula peak_nonpaged_pool (MB)': 0.06410133333333333, 'Formula peak_paged_pool (MB)': 1.5347546666666667, 'Formula peak_pagefile (MB)': 92.50952533333333, 'Formula nonpaged_pool (MB)': 0.06303733333333333, 'Formula paged_pool (MB)': 1.507632, 'Formula peak_wset (MB)': 150.53073066666667, 'Formula pagefile (MB)': 92.16955733333333, 'Formula private (MB)': 92.16955733333333, 'Formula wset (MB)': 150.11566933333333, 'Formula rss (MB)': 150.11566933333333, 'Formula uss (MB)': 67.284992, 'Formula vms (MB)': 92.16955733333333}\n",
      "Opening fv-10000.xlsx (trial 1)\n",
      "Opening fv-10000.xlsx (trial 2)\n",
      "Opening fv-10000.xlsx (trial 3)\n",
      "Opening fv-10000.xlsx (trial 4)\n",
      "Opening fv-10000.xlsx (trial 5)\n",
      "{'Value peak_nonpaged_pool (MB)': 0.062456, 'Value peak_paged_pool (MB)': 1.52972, 'Value peak_pagefile (MB)': 84.69845333333333, 'Value nonpaged_pool (MB)': 0.061848, 'Value paged_pool (MB)': 1.49672, 'Value peak_wset (MB)': 139.40462933333333, 'Value pagefile (MB)': 84.692992, 'Value private (MB)': 84.692992, 'Value wset (MB)': 139.40053333333336, 'Value rss (MB)': 139.40053333333336, 'Value uss (MB)': 60.435114666666664, 'Value vms (MB)': 84.692992, 'Formula peak_nonpaged_pool (MB)': 0.06333333333333334, 'Formula peak_paged_pool (MB)': 1.530696, 'Formula peak_pagefile (MB)': 85.98459733333333, 'Formula nonpaged_pool (MB)': 0.06288266666666667, 'Formula paged_pool (MB)': 1.49776, 'Formula peak_wset (MB)': 141.25192533333333, 'Formula pagefile (MB)': 85.97777066666667, 'Formula private (MB)': 85.97777066666667, 'Formula wset (MB)': 141.242368, 'Formula rss (MB)': 141.242368, 'Formula uss (MB)': 61.86734933333334, 'Formula vms (MB)': 85.97777066666667}\n",
      "Opening fv-800000.xlsx (trial 1)\n",
      "Opening fv-800000.xlsx (trial 2)\n",
      "Opening fv-800000.xlsx (trial 3)\n",
      "Opening fv-800000.xlsx (trial 4)\n",
      "Opening fv-800000.xlsx (trial 5)\n",
      "{'Value peak_nonpaged_pool (MB)': 0.06505866666666667, 'Value peak_paged_pool (MB)': 1.5703093333333333, 'Value peak_pagefile (MB)': 138.145792, 'Value nonpaged_pool (MB)': 0.06386133333333334, 'Value paged_pool (MB)': 1.523568, 'Value peak_wset (MB)': 193.31208533333336, 'Value pagefile (MB)': 134.516736, 'Value private (MB)': 134.516736, 'Value wset (MB)': 192.89975466666667, 'Value rss (MB)': 192.89975466666667, 'Value uss (MB)': 108.31189333333333, 'Value vms (MB)': 134.516736, 'Formula peak_nonpaged_pool (MB)': 0.078724, 'Formula peak_paged_pool (MB)': 1.557696, 'Formula peak_pagefile (MB)': 229.974016, 'Formula nonpaged_pool (MB)': 0.054488, 'Formula paged_pool (MB)': 1.4945786666666667, 'Formula peak_wset (MB)': 288.387072, 'Formula pagefile (MB)': 228.39159466666666, 'Formula private (MB)': 228.39159466666666, 'Formula wset (MB)': 248.87296, 'Formula rss (MB)': 248.87296, 'Formula uss (MB)': 163.40445866666667, 'Formula vms (MB)': 228.39159466666666}\n",
      "Opening fv-20000.xlsx (trial 1)\n",
      "Opening fv-20000.xlsx (trial 2)\n",
      "Opening fv-20000.xlsx (trial 3)\n",
      "Opening fv-20000.xlsx (trial 4)\n",
      "Opening fv-20000.xlsx (trial 5)\n",
      "{'Value peak_nonpaged_pool (MB)': 0.06209066666666666, 'Value peak_paged_pool (MB)': 1.52696, 'Value peak_pagefile (MB)': 85.471232, 'Value nonpaged_pool (MB)': 0.061685333333333335, 'Value paged_pool (MB)': 1.493792, 'Value peak_wset (MB)': 140.24840533333335, 'Value pagefile (MB)': 85.46304, 'Value private (MB)': 85.46304, 'Value wset (MB)': 140.24021333333334, 'Value rss (MB)': 140.24021333333334, 'Value uss (MB)': 61.42907733333334, 'Value vms (MB)': 85.46304, 'Formula peak_nonpaged_pool (MB)': 0.06352266666666666, 'Formula peak_paged_pool (MB)': 1.543088, 'Formula peak_pagefile (MB)': 89.10711466666667, 'Formula nonpaged_pool (MB)': 0.06311733333333333, 'Formula paged_pool (MB)': 1.5089653333333333, 'Formula peak_wset (MB)': 144.592896, 'Formula pagefile (MB)': 89.100288, 'Formula private (MB)': 89.100288, 'Formula wset (MB)': 144.58606933333334, 'Formula rss (MB)': 144.58606933333334, 'Formula uss (MB)': 64.58026666666666, 'Formula vms (MB)': 89.100288}\n",
      "Opening fv-700000.xlsx (trial 1)\n",
      "Opening fv-700000.xlsx (trial 2)\n",
      "Opening fv-700000.xlsx (trial 3)\n",
      "Opening fv-700000.xlsx (trial 4)\n",
      "Opening fv-700000.xlsx (trial 5)\n",
      "{'Value peak_nonpaged_pool (MB)': 0.06476, 'Value peak_paged_pool (MB)': 1.5612266666666668, 'Value peak_pagefile (MB)': 131.608576, 'Value nonpaged_pool (MB)': 0.063736, 'Value paged_pool (MB)': 1.51672, 'Value peak_wset (MB)': 189.304832, 'Value pagefile (MB)': 128.12424533333333, 'Value private (MB)': 128.12424533333333, 'Value wset (MB)': 186.20962133333333, 'Value rss (MB)': 186.20962133333333, 'Value uss (MB)': 102.97480533333332, 'Value vms (MB)': 128.12424533333333, 'Formula peak_nonpaged_pool (MB)': 0.064056, 'Formula peak_paged_pool (MB)': 1.561672, 'Formula peak_pagefile (MB)': 211.607552, 'Formula nonpaged_pool (MB)': 0.053944, 'Formula paged_pool (MB)': 1.4935946666666668, 'Formula peak_wset (MB)': 270.700544, 'Formula pagefile (MB)': 207.05826133333335, 'Formula private (MB)': 207.05826133333335, 'Formula wset (MB)': 243.90997333333334, 'Formula rss (MB)': 243.90997333333334, 'Formula uss (MB)': 158.38549333333333, 'Formula vms (MB)': 207.05826133333335}\n",
      "Opening fv-80000.xlsx (trial 1)\n",
      "Opening fv-80000.xlsx (trial 2)\n",
      "Opening fv-80000.xlsx (trial 3)\n",
      "Opening fv-80000.xlsx (trial 4)\n",
      "Opening fv-80000.xlsx (trial 5)\n",
      "{'Value peak_nonpaged_pool (MB)': 0.06276533333333334, 'Value peak_paged_pool (MB)': 1.531384, 'Value peak_pagefile (MB)': 89.10301866666667, 'Value nonpaged_pool (MB)': 0.06220266666666666, 'Value paged_pool (MB)': 1.496736, 'Value peak_wset (MB)': 143.79281066666667, 'Value pagefile (MB)': 89.01563733333333, 'Value private (MB)': 89.01563733333333, 'Value wset (MB)': 143.69450666666665, 'Value rss (MB)': 143.69450666666665, 'Value uss (MB)': 64.63761066666666, 'Value vms (MB)': 89.01563733333333, 'Formula peak_nonpaged_pool (MB)': 0.064816, 'Formula peak_paged_pool (MB)': 1.555736, 'Formula peak_pagefile (MB)': 97.58446933333333, 'Formula nonpaged_pool (MB)': 0.06320533333333334, 'Formula paged_pool (MB)': 1.5142186666666668, 'Formula peak_wset (MB)': 157.663232, 'Formula pagefile (MB)': 97.366016, 'Formula private (MB)': 97.366016, 'Formula wset (MB)': 157.35330133333335, 'Formula rss (MB)': 157.35330133333335, 'Formula uss (MB)': 71.85066666666667, 'Formula vms (MB)': 97.366016}\n",
      "Opening fv-500000.xlsx (trial 1)\n",
      "Opening fv-500000.xlsx (trial 2)\n",
      "Opening fv-500000.xlsx (trial 3)\n",
      "Opening fv-500000.xlsx (trial 4)\n",
      "Opening fv-500000.xlsx (trial 5)\n",
      "{'Value peak_nonpaged_pool (MB)': 0.06414666666666666, 'Value peak_paged_pool (MB)': 1.5487893333333334, 'Value peak_pagefile (MB)': 121.511936, 'Value nonpaged_pool (MB)': 0.06303733333333333, 'Value paged_pool (MB)': 1.511232, 'Value peak_wset (MB)': 175.026176, 'Value pagefile (MB)': 114.87232, 'Value private (MB)': 114.87232, 'Value wset (MB)': 173.21710933333335, 'Value rss (MB)': 173.21710933333335, 'Value uss (MB)': 89.255936, 'Value vms (MB)': 114.87232, 'Formula peak_nonpaged_pool (MB)': 0.06392, 'Formula peak_paged_pool (MB)': 1.558752, 'Formula peak_pagefile (MB)': 182.857728, 'Formula nonpaged_pool (MB)': 0.054216, 'Formula paged_pool (MB)': 1.4992986666666668, 'Formula peak_wset (MB)': 244.14208, 'Formula pagefile (MB)': 178.23607466666667, 'Formula private (MB)': 178.23607466666667, 'Formula wset (MB)': 232.80981333333335, 'Formula rss (MB)': 232.80981333333335, 'Formula uss (MB)': 146.46340266666667, 'Formula vms (MB)': 178.23607466666667}\n",
      "Opening fv-100000.xlsx (trial 1)\n",
      "Opening fv-100000.xlsx (trial 2)\n",
      "Opening fv-100000.xlsx (trial 3)\n",
      "Opening fv-100000.xlsx (trial 4)\n",
      "Opening fv-100000.xlsx (trial 5)\n",
      "{'Value peak_nonpaged_pool (MB)': 0.06303466666666667, 'Value peak_paged_pool (MB)': 1.533832, 'Value peak_pagefile (MB)': 90.99810133333332, 'Value nonpaged_pool (MB)': 0.062584, 'Value paged_pool (MB)': 1.498768, 'Value peak_wset (MB)': 145.36021333333335, 'Value pagefile (MB)': 90.97079466666668, 'Value private (MB)': 90.97079466666668, 'Value wset (MB)': 145.26737066666666, 'Value rss (MB)': 145.26737066666666, 'Value uss (MB)': 66.25962666666666, 'Value vms (MB)': 90.97079466666668, 'Formula peak_nonpaged_pool (MB)': 0.065832, 'Formula peak_paged_pool (MB)': 1.5608026666666668, 'Formula peak_pagefile (MB)': 101.63131733333333, 'Formula nonpaged_pool (MB)': 0.064136, 'Formula paged_pool (MB)': 1.521688, 'Formula peak_wset (MB)': 161.902592, 'Formula pagefile (MB)': 101.50843733333333, 'Formula private (MB)': 101.50843733333333, 'Formula wset (MB)': 161.857536, 'Formula rss (MB)': 161.857536, 'Formula uss (MB)': 76.19515733333333, 'Formula vms (MB)': 101.50843733333333}\n",
      "Opening fv-400000.xlsx (trial 1)\n",
      "Opening fv-400000.xlsx (trial 2)\n",
      "Opening fv-400000.xlsx (trial 3)\n",
      "Opening fv-400000.xlsx (trial 4)\n",
      "Opening fv-400000.xlsx (trial 5)\n",
      "{'Value peak_nonpaged_pool (MB)': 0.06380533333333334, 'Value peak_paged_pool (MB)': 1.5373946666666667, 'Value peak_pagefile (MB)': 110.968832, 'Value nonpaged_pool (MB)': 0.06294666666666666, 'Value paged_pool (MB)': 1.5023253333333333, 'Value peak_wset (MB)': 165.81700266666667, 'Value pagefile (MB)': 109.61032533333332, 'Value private (MB)': 109.61032533333332, 'Value wset (MB)': 164.69879466666666, 'Value rss (MB)': 164.69879466666666, 'Value uss (MB)': 84.107264, 'Value vms (MB)': 109.61032533333332, 'Formula peak_nonpaged_pool (MB)': 0.06392, 'Formula peak_paged_pool (MB)': 1.54744, 'Formula peak_pagefile (MB)': 158.052352, 'Formula nonpaged_pool (MB)': 0.054216, 'Formula paged_pool (MB)': 1.5027466666666667, 'Formula peak_wset (MB)': 219.508736, 'Formula pagefile (MB)': 155.234304, 'Formula private (MB)': 155.234304, 'Formula wset (MB)': 212.42538666666667, 'Formula rss (MB)': 212.42538666666667, 'Formula uss (MB)': 126.316544, 'Formula vms (MB)': 155.234304}\n",
      "Opening fv-70000.xlsx (trial 1)\n",
      "Opening fv-70000.xlsx (trial 2)\n",
      "Opening fv-70000.xlsx (trial 3)\n",
      "Opening fv-70000.xlsx (trial 4)\n",
      "Opening fv-70000.xlsx (trial 5)\n",
      "{'Value peak_nonpaged_pool (MB)': 0.06289866666666666, 'Value peak_paged_pool (MB)': 1.53076, 'Value peak_pagefile (MB)': 89.38564266666667, 'Value nonpaged_pool (MB)': 0.062448, 'Value paged_pool (MB)': 1.496416, 'Value peak_wset (MB)': 143.47605333333334, 'Value pagefile (MB)': 89.378816, 'Value private (MB)': 89.378816, 'Value wset (MB)': 143.392768, 'Value rss (MB)': 143.392768, 'Value uss (MB)': 64.38638933333334, 'Value vms (MB)': 89.378816, 'Formula peak_nonpaged_pool (MB)': 0.065552, 'Formula peak_paged_pool (MB)': 1.555352, 'Formula peak_pagefile (MB)': 97.083392, 'Formula nonpaged_pool (MB)': 0.06416266666666666, 'Formula paged_pool (MB)': 1.5170826666666668, 'Formula peak_wset (MB)': 157.16352, 'Formula pagefile (MB)': 96.12765866666668, 'Formula private (MB)': 96.12765866666668, 'Formula wset (MB)': 156.03165866666666, 'Formula rss (MB)': 156.03165866666666, 'Formula uss (MB)': 71.15025066666666, 'Formula vms (MB)': 96.12765866666668}\n",
      "\n",
      "Total time (HH:MM:SS): 08:04:30\n"
     ]
    }
   ],
   "source": [
    "pipeline.run_vis(CONFIG_ARGS\n",
    "  , OUTPUT_PATH\n",
    "  , INTEGER_ARG\n",
    "  , SOFFICE_DIR\n",
    "  , fv_fig\n",
    "  , vo_fig\n",
    "  , barplt\n",
    "  , 'uss'\n",
    ")"
   ]
  },
  {
   "cell_type": "code",
   "execution_count": 7,
   "metadata": {},
   "outputs": [],
   "source": [
    "# Timing notes\n",
    "\n",
    "# EXCEL:\n",
    "# large-RCBS-1col (Python)\n",
    "#   Up to 1 million: Total time (HH:MM:SS): 06:56:18\n",
    "# RCBS-1col (Python)\n",
    "#   Up to 1 million: Total time (HH:MM:SS): 07:05:28\n",
    "# RCBS-1col (VBA)\n",
    "#   Up to 1 million: Total time (HH:MM:SS): 07:47:56\n",
    "# RLS-1col\n",
    "#   Up to 1 million: Total time (HH:MM:SS): 00:06:18\n",
    "# RSCS-1col (VBA)\n",
    "#   Up to 1 million: Total time (HH:MM:SS): 00:08:18\n",
    "# RLS-5col\n",
    "#   Up to 1 million: Total time (HH:MM:SS): 00:21:21"
   ]
  }
 ]
}