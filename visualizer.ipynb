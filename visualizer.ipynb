{
 "metadata": {
  "language_info": {
   "codemirror_mode": {
    "name": "ipython",
    "version": 3
   },
   "file_extension": ".py",
   "mimetype": "text/x-python",
   "name": "python",
   "nbconvert_exporter": "python",
   "pygments_lexer": "ipython3",
   "version": "3.9.1-final"
  },
  "orig_nbformat": 2,
  "kernelspec": {
   "name": "python3",
   "display_name": "Python 3.9.1 64-bit ('venv')",
   "metadata": {
    "interpreter": {
     "hash": "eac5fd4f3b87df99de86ad020418d85b202268d4b21f8e6ebb10ed7c9c0fe4d2"
    }
   }
  }
 },
 "nbformat": 4,
 "nbformat_minor": 2,
 "cells": [
  {
   "source": [
    "# Real-Time Experimental Results Visualizer"
   ],
   "cell_type": "markdown",
   "metadata": {}
  },
  {
   "source": [
    "## Setup"
   ],
   "cell_type": "markdown",
   "metadata": {}
  },
  {
   "cell_type": "code",
   "execution_count": 1,
   "metadata": {},
   "outputs": [],
   "source": [
    "from code.excelmem.excelmemvis import main as excel_main\n",
    "from code.libremem.librememvis import main as libre_main\n",
    "\n",
    "import plotly.graph_objects as go\n",
    "import multiprocessing as mp"
   ]
  },
  {
   "cell_type": "code",
   "execution_count": 2,
   "metadata": {},
   "outputs": [
    {
     "output_type": "display_data",
     "data": {
      "text/plain": "FigureWidget({\n    'data': [{'name': 'Formula-Value (MB)', 'type': 'scatter', 'uid': 'c2e40d87-8885-4450-8aca-…",
      "application/vnd.jupyter.widget-view+json": {
       "version_major": 2,
       "version_minor": 0,
       "model_id": "adbd8d180fde4fba9ee51455c539e31e"
      }
     },
     "metadata": {}
    }
   ],
   "source": [
    "fv_fig = go.FigureWidget(\n",
    "    layout=go.Layout(\n",
    "        title=go.layout.Title(text=\"Formula-Value Live Data\"),\n",
    "        xaxis=dict(title=\"Rows\"),\n",
    "        yaxis=dict(title=\"Formula Size (MB)\")\n",
    "    )\n",
    ")\n",
    "fv_fig.add_scatter(name='Formula-Value (MB)')\n",
    "fv_fig"
   ]
  },
  {
   "cell_type": "code",
   "execution_count": 3,
   "metadata": {},
   "outputs": [
    {
     "output_type": "display_data",
     "data": {
      "text/plain": "FigureWidget({\n    'data': [{'name': 'Value-Only (MB)', 'type': 'scatter', 'uid': '08b662ee-9a97-425f-996a-ccf…",
      "application/vnd.jupyter.widget-view+json": {
       "version_major": 2,
       "version_minor": 0,
       "model_id": "64f2e62c78194656aaf601c695b9ab78"
      }
     },
     "metadata": {}
    }
   ],
   "source": [
    "vo_fig = go.FigureWidget(\n",
    "    layout=go.Layout(\n",
    "        title=go.layout.Title(text=\"Value-Only Live Data\"),\n",
    "        xaxis=dict(title=\"Rows\"),\n",
    "        yaxis=dict(title=\"Value Size (MB)\")\n",
    "    )\n",
    ")\n",
    "vo_fig.add_scatter(name='Value-Only (MB)')\n",
    "vo_fig"
   ]
  },
  {
   "cell_type": "code",
   "execution_count": 4,
   "metadata": {},
   "outputs": [
    {
     "output_type": "display_data",
     "data": {
      "text/plain": "FigureWidget({\n    'data': [{'name': 'Value-Only (MB)', 'type': 'bar', 'uid': 'd1132807-3624-4766-817f-80e24f6…",
      "application/vnd.jupyter.widget-view+json": {
       "version_major": 2,
       "version_minor": 0,
       "model_id": "0b45a80f943c4ea99debbdc03b73be9e"
      }
     },
     "metadata": {}
    }
   ],
   "source": [
    "barplt = go.FigureWidget(\n",
    "    layout=go.Layout(\n",
    "        title=go.layout.Title(text=\"Live Data\"),\n",
    "        xaxis=dict(title=\"Rows\"),\n",
    "        yaxis=dict(title=\"Size (MB)\")\n",
    "    )\n",
    ")\n",
    "barplt.add_bar(name='Value-Only (MB)')\n",
    "barplt.add_bar(name='Formula-Value (MB)')\n",
    "barplt"
   ]
  },
  {
   "source": [
    "## Place your own settings here"
   ],
   "cell_type": "markdown",
   "metadata": {}
  },
  {
   "cell_type": "code",
   "execution_count": 5,
   "metadata": {},
   "outputs": [],
   "source": [
    "# Either \"libre\" or \"excel\"\n",
    "APPLICATION = \"libre\"\n",
    "\n",
    "SOFFICE_DIR = \"C:/Program Files/LibreOffice/program/soffice\"\n",
    "INPUTS_PATH = os.path.join(\"input-data\", \"rscs-test\")\n",
    "OUTPUT_PATH = os.path.join(OUTPUT_NAME, APPLICATION.lower(), OUTDIR_NAME)\n",
    "FV_INPUTDIR = \"formula-value\"\n",
    "VO_INPUTDIR = \"value-only\"\n",
    "INTEGER_ARG = 1"
   ]
  },
  {
   "source": [
    "## Run the following cells for real-time results"
   ],
   "cell_type": "markdown",
   "metadata": {}
  },
  {
   "cell_type": "code",
   "execution_count": 6,
   "metadata": {},
   "outputs": [],
   "source": [
    "parent_conn, child_conn = mp.Pipe()\n",
    "\n",
    "if APPLICATION.lower() == \"excel\":\n",
    "  process = mp.Process(target=excel_main\n",
    "    , args=(child_conn, INPUTS_PATH, OUTPUT_PATH,)\n",
    "    , kwargs={\n",
    "      \"fv_inputdir\"   : FV_INPUTDIR\n",
    "      , \"vo_inputdir\" : VO_INPUTDIR\n",
    "      , \"totl_trials\" : INTEGER_ARG\n",
    "    }\n",
    "  )\n",
    "\n",
    "elif APPLICATION.lower() == \"libre\":\n",
    "  process = mp.Process(target=libre_main\n",
    "    , args=(child_conn, INPUTS_PATH, OUTPUT_PATH,)\n",
    "    , kwargs={\n",
    "      \"soffice_path\"  : SOFFICE_DIR\n",
    "      , \"fv_inputdir\" : FV_INPUTDIR\n",
    "      , \"vo_inputdir\" : VO_INPUTDIR\n",
    "      , \"pollseconds\" : INTEGER_ARG\n",
    "    }\n",
    "  )\n",
    "\n",
    "else:\n",
    "  process = None\n",
    "  print(f\"{APPLICATION} is an invalid option.\")"
   ]
  },
  {
   "cell_type": "code",
   "execution_count": 7,
   "metadata": {
    "tags": [
     "outputPrepend"
    ]
   },
   "outputs": [
    {
     "output_type": "stream",
     "name": "stdout",
     "text": [
      ": 321110016, 'pagefile': 127553536, 'private': 127553536, 'wset': 321105920, 'rss': 321105920, 'uss': 104886272, 'vms': 127553536}\n",
      "vo-50000.ods: {'peak_nonpaged_pool': 62768, 'peak_paged_pool': 1548936, 'num_page_faults': 183658, 'peak_pagefile': 482476032, 'nonpaged_pool': 62496, 'paged_pool': 1548928, 'peak_wset': 561901568, 'pagefile': 482291712, 'private': 482291712, 'wset': 561897472, 'rss': 561897472, 'uss': 339148800, 'vms': 482291712}\n",
      "vo-50000.ods: {'peak_nonpaged_pool': 62768, 'peak_paged_pool': 1548992, 'num_page_faults': 183681, 'peak_pagefile': 482476032, 'nonpaged_pool': 62360, 'paged_pool': 1547184, 'peak_wset': 561995776, 'pagefile': 482258944, 'private': 482258944, 'wset': 561975296, 'rss': 561975296, 'uss': 339226624, 'vms': 482258944}\n",
      "vo-50000.ods: {'peak_nonpaged_pool': 62768, 'peak_paged_pool': 1548992, 'num_page_faults': 183681, 'peak_pagefile': 482476032, 'nonpaged_pool': 62360, 'paged_pool': 1547184, 'peak_wset': 561995776, 'pagefile': 482258944, 'private': 482258944, 'wset': 561975296, 'rss': 561975296, 'uss': 339226624, 'vms': 482258944}\n",
      "vo-50000.ods: {'peak_nonpaged_pool': 62768, 'peak_paged_pool': 1548992, 'num_page_faults': 183681, 'peak_pagefile': 482476032, 'nonpaged_pool': 62360, 'paged_pool': 1547184, 'peak_wset': 561995776, 'pagefile': 482258944, 'private': 482258944, 'wset': 561975296, 'rss': 561975296, 'uss': 339226624, 'vms': 482258944}\n",
      "vo-50000.ods: {'peak_nonpaged_pool': 62768, 'peak_paged_pool': 1548992, 'num_page_faults': 183681, 'peak_pagefile': 482476032, 'nonpaged_pool': 62360, 'paged_pool': 1547184, 'peak_wset': 561995776, 'pagefile': 482258944, 'private': 482258944, 'wset': 561975296, 'rss': 561975296, 'uss': 339226624, 'vms': 482258944}\n",
      "vo-50000.ods: {'peak_nonpaged_pool': 62768, 'peak_paged_pool': 1548992, 'num_page_faults': 183681, 'peak_pagefile': 482476032, 'nonpaged_pool': 62360, 'paged_pool': 1547184, 'peak_wset': 561995776, 'pagefile': 482258944, 'private': 482258944, 'wset': 561975296, 'rss': 561975296, 'uss': 339226624, 'vms': 482258944}\n",
      "vo-50000.ods: {'peak_nonpaged_pool': 62768, 'peak_paged_pool': 1548992, 'num_page_faults': 183681, 'peak_pagefile': 482476032, 'nonpaged_pool': 62360, 'paged_pool': 1547184, 'peak_wset': 561995776, 'pagefile': 482258944, 'private': 482258944, 'wset': 561975296, 'rss': 561975296, 'uss': 339226624, 'vms': 482258944}\n",
      "vo-50000.ods: {'peak_nonpaged_pool': 62768, 'peak_paged_pool': 1548992, 'num_page_faults': 183681, 'peak_pagefile': 482476032, 'nonpaged_pool': 62360, 'paged_pool': 1547184, 'peak_wset': 561995776, 'pagefile': 482258944, 'private': 482258944, 'wset': 561975296, 'rss': 561975296, 'uss': 339226624, 'vms': 482258944}\n",
      "vo-50000.ods: {'peak_nonpaged_pool': 62768, 'peak_paged_pool': 1548992, 'num_page_faults': 183683, 'peak_pagefile': 482476032, 'nonpaged_pool': 62360, 'paged_pool': 1547184, 'peak_wset': 561995776, 'pagefile': 482258944, 'private': 482258944, 'wset': 561983488, 'rss': 561983488, 'uss': 339226624, 'vms': 482258944}\n",
      "fv-40000.ods: {'peak_nonpaged_pool': 45368, 'peak_paged_pool': 288080, 'num_page_faults': 51040, 'peak_pagefile': 413863936, 'nonpaged_pool': 42680, 'paged_pool': 287968, 'peak_wset': 56602624, 'pagefile': 411594752, 'private': 411594752, 'wset': 54370304, 'rss': 54370304, 'uss': 38551552, 'vms': 411594752}\n",
      "fv-40000.ods: {'peak_nonpaged_pool': 62360, 'peak_paged_pool': 1542512, 'num_page_faults': 176469, 'peak_pagefile': 438697984, 'nonpaged_pool': 62360, 'paged_pool': 1542512, 'peak_wset': 519839744, 'pagefile': 438697984, 'private': 438697984, 'wset': 519204864, 'rss': 519204864, 'uss': 295579648, 'vms': 438697984}\n",
      "fv-40000.ods: {'peak_nonpaged_pool': 62768, 'peak_paged_pool': 1551952, 'num_page_faults': 189962, 'peak_pagefile': 493821952, 'nonpaged_pool': 62360, 'paged_pool': 1550144, 'peak_wset': 574349312, 'pagefile': 493621248, 'private': 493621248, 'wset': 574324736, 'rss': 574324736, 'uss': 350658560, 'vms': 493621248}\n",
      "fv-40000.ods: {'peak_nonpaged_pool': 62768, 'peak_paged_pool': 1551952, 'num_page_faults': 189962, 'peak_pagefile': 493821952, 'nonpaged_pool': 62360, 'paged_pool': 1550144, 'peak_wset': 574349312, 'pagefile': 493621248, 'private': 493621248, 'wset': 574324736, 'rss': 574324736, 'uss': 350658560, 'vms': 493621248}\n",
      "fv-40000.ods: {'peak_nonpaged_pool': 62768, 'peak_paged_pool': 1551952, 'num_page_faults': 189962, 'peak_pagefile': 493821952, 'nonpaged_pool': 62360, 'paged_pool': 1550144, 'peak_wset': 574349312, 'pagefile': 493621248, 'private': 493621248, 'wset': 574324736, 'rss': 574324736, 'uss': 350658560, 'vms': 493621248}\n",
      "fv-40000.ods: {'peak_nonpaged_pool': 62768, 'peak_paged_pool': 1551952, 'num_page_faults': 189962, 'peak_pagefile': 493821952, 'nonpaged_pool': 62360, 'paged_pool': 1550144, 'peak_wset': 574349312, 'pagefile': 493621248, 'private': 493621248, 'wset': 574324736, 'rss': 574324736, 'uss': 350658560, 'vms': 493621248}\n",
      "fv-40000.ods: {'peak_nonpaged_pool': 62768, 'peak_paged_pool': 1551952, 'num_page_faults': 189964, 'peak_pagefile': 493821952, 'nonpaged_pool': 62360, 'paged_pool': 1550144, 'peak_wset': 574349312, 'pagefile': 493621248, 'private': 493621248, 'wset': 574332928, 'rss': 574332928, 'uss': 350658560, 'vms': 493621248}\n",
      "fv-40000.ods: {'peak_nonpaged_pool': 62768, 'peak_paged_pool': 1551952, 'num_page_faults': 189964, 'peak_pagefile': 493821952, 'nonpaged_pool': 62360, 'paged_pool': 1550144, 'peak_wset': 574349312, 'pagefile': 493621248, 'private': 493621248, 'wset': 574332928, 'rss': 574332928, 'uss': 350658560, 'vms': 493621248}\n",
      "fv-40000.ods: {'peak_nonpaged_pool': 62768, 'peak_paged_pool': 1551952, 'num_page_faults': 189964, 'peak_pagefile': 493821952, 'nonpaged_pool': 62360, 'paged_pool': 1550144, 'peak_wset': 574349312, 'pagefile': 493621248, 'private': 493621248, 'wset': 574332928, 'rss': 574332928, 'uss': 350658560, 'vms': 493621248}\n",
      "fv-0.ods: {'peak_nonpaged_pool': 45880, 'peak_paged_pool': 288080, 'num_page_faults': 56703, 'peak_pagefile': 413863936, 'nonpaged_pool': 42680, 'paged_pool': 287968, 'peak_wset': 56602624, 'pagefile': 411594752, 'private': 411594752, 'wset': 54374400, 'rss': 54374400, 'uss': 38555648, 'vms': 411594752}\n",
      "fv-0.ods: {'peak_nonpaged_pool': 62224, 'peak_paged_pool': 1541792, 'num_page_faults': 168006, 'peak_pagefile': 422719488, 'nonpaged_pool': 62224, 'paged_pool': 1541792, 'peak_wset': 501829632, 'pagefile': 422719488, 'private': 422719488, 'wset': 501633024, 'rss': 501633024, 'uss': 279203840, 'vms': 422719488}\n",
      "fv-0.ods: {'peak_nonpaged_pool': 62632, 'peak_paged_pool': 1547680, 'num_page_faults': 181567, 'peak_pagefile': 478208000, 'nonpaged_pool': 62224, 'paged_pool': 1545872, 'peak_wset': 558407680, 'pagefile': 478011392, 'private': 478011392, 'wset': 557023232, 'rss': 557023232, 'uss': 334548992, 'vms': 478011392}\n",
      "fv-0.ods: {'peak_nonpaged_pool': 62632, 'peak_paged_pool': 1547680, 'num_page_faults': 181567, 'peak_pagefile': 478208000, 'nonpaged_pool': 62224, 'paged_pool': 1545872, 'peak_wset': 558407680, 'pagefile': 478011392, 'private': 478011392, 'wset': 557023232, 'rss': 557023232, 'uss': 334548992, 'vms': 478011392}\n",
      "fv-0.ods: {'peak_nonpaged_pool': 62632, 'peak_paged_pool': 1547680, 'num_page_faults': 181567, 'peak_pagefile': 478208000, 'nonpaged_pool': 62088, 'paged_pool': 1448672, 'peak_wset': 558407680, 'pagefile': 477913088, 'private': 477913088, 'wset': 557023232, 'rss': 557023232, 'uss': 334548992, 'vms': 477913088}\n",
      "fv-0.ods: {'peak_nonpaged_pool': 62632, 'peak_paged_pool': 1547680, 'num_page_faults': 181567, 'peak_pagefile': 478208000, 'nonpaged_pool': 62088, 'paged_pool': 1448672, 'peak_wset': 558407680, 'pagefile': 477913088, 'private': 477913088, 'wset': 557023232, 'rss': 557023232, 'uss': 334548992, 'vms': 477913088}\n",
      "fv-0.ods: {'peak_nonpaged_pool': 62632, 'peak_paged_pool': 1547680, 'num_page_faults': 181569, 'peak_pagefile': 478208000, 'nonpaged_pool': 62088, 'paged_pool': 1448672, 'peak_wset': 558407680, 'pagefile': 477913088, 'private': 477913088, 'wset': 557031424, 'rss': 557031424, 'uss': 334548992, 'vms': 477913088}\n",
      "fv-0.ods: {'peak_nonpaged_pool': 62632, 'peak_paged_pool': 1547680, 'num_page_faults': 181569, 'peak_pagefile': 478208000, 'nonpaged_pool': 62088, 'paged_pool': 1448672, 'peak_wset': 558407680, 'pagefile': 477913088, 'private': 477913088, 'wset': 557031424, 'rss': 557031424, 'uss': 334548992, 'vms': 477913088}\n",
      "fv-0.ods: {'peak_nonpaged_pool': 62632, 'peak_paged_pool': 1547680, 'num_page_faults': 181569, 'peak_pagefile': 478208000, 'nonpaged_pool': 62088, 'paged_pool': 1448672, 'peak_wset': 558407680, 'pagefile': 477913088, 'private': 477913088, 'wset': 557031424, 'rss': 557031424, 'uss': 334548992, 'vms': 477913088}\n",
      "fv-10000.ods: {'peak_nonpaged_pool': 46264, 'peak_paged_pool': 288080, 'num_page_faults': 62365, 'peak_pagefile': 413863936, 'nonpaged_pool': 42680, 'paged_pool': 287968, 'peak_wset': 56602624, 'pagefile': 411594752, 'private': 411594752, 'wset': 54374400, 'rss': 54374400, 'uss': 38555648, 'vms': 411594752}\n",
      "fv-10000.ods: {'peak_nonpaged_pool': 57328, 'peak_paged_pool': 1539928, 'num_page_faults': 126875, 'peak_pagefile': 142139392, 'nonpaged_pool': 57192, 'paged_pool': 1514376, 'peak_wset': 335904768, 'pagefile': 142098432, 'private': 142098432, 'wset': 335892480, 'rss': 335892480, 'uss': 119156736, 'vms': 142098432}\n",
      "fv-10000.ods: {'peak_nonpaged_pool': 62768, 'peak_paged_pool': 1550128, 'num_page_faults': 188660, 'peak_pagefile': 497254400, 'nonpaged_pool': 62704, 'paged_pool': 1550096, 'peak_wset': 577581056, 'pagefile': 497156096, 'private': 497156096, 'wset': 577576960, 'rss': 577576960, 'uss': 353935360, 'vms': 497156096}\n",
      "fv-10000.ods: {'peak_nonpaged_pool': 62768, 'peak_paged_pool': 1550192, 'num_page_faults': 188670, 'peak_pagefile': 497324032, 'nonpaged_pool': 62360, 'paged_pool': 1548384, 'peak_wset': 577597440, 'pagefile': 497143808, 'private': 497143808, 'wset': 577593344, 'rss': 577593344, 'uss': 353935360, 'vms': 497143808}\n",
      "fv-10000.ods: {'peak_nonpaged_pool': 62768, 'peak_paged_pool': 1550192, 'num_page_faults': 188670, 'peak_pagefile': 497324032, 'nonpaged_pool': 62360, 'paged_pool': 1548384, 'peak_wset': 577597440, 'pagefile': 497143808, 'private': 497143808, 'wset': 577589248, 'rss': 577589248, 'uss': 353935360, 'vms': 497143808}\n",
      "fv-10000.ods: {'peak_nonpaged_pool': 62768, 'peak_paged_pool': 1550192, 'num_page_faults': 188670, 'peak_pagefile': 497324032, 'nonpaged_pool': 62360, 'paged_pool': 1548384, 'peak_wset': 577597440, 'pagefile': 497143808, 'private': 497143808, 'wset': 577589248, 'rss': 577589248, 'uss': 353935360, 'vms': 497143808}\n",
      "fv-10000.ods: {'peak_nonpaged_pool': 62768, 'peak_paged_pool': 1550192, 'num_page_faults': 188670, 'peak_pagefile': 497324032, 'nonpaged_pool': 62360, 'paged_pool': 1548384, 'peak_wset': 577597440, 'pagefile': 497143808, 'private': 497143808, 'wset': 577519616, 'rss': 577519616, 'uss': 353935360, 'vms': 497143808}\n",
      "fv-10000.ods: {'peak_nonpaged_pool': 62768, 'peak_paged_pool': 1550192, 'num_page_faults': 188670, 'peak_pagefile': 497324032, 'nonpaged_pool': 62360, 'paged_pool': 1548384, 'peak_wset': 577597440, 'pagefile': 497143808, 'private': 497143808, 'wset': 577466368, 'rss': 577466368, 'uss': 353935360, 'vms': 497143808}\n",
      "fv-10000.ods: {'peak_nonpaged_pool': 62768, 'peak_paged_pool': 1550192, 'num_page_faults': 188670, 'peak_pagefile': 497324032, 'nonpaged_pool': 62360, 'paged_pool': 1548384, 'peak_wset': 577597440, 'pagefile': 497143808, 'private': 497143808, 'wset': 577363968, 'rss': 577363968, 'uss': 353935360, 'vms': 497143808}\n",
      "fv-20000.ods: {'peak_nonpaged_pool': 54880, 'peak_paged_pool': 1500528, 'num_page_faults': 115160, 'peak_pagefile': 110534656, 'nonpaged_pool': 54744, 'paged_pool': 1499984, 'peak_wset': 312766464, 'pagefile': 110440448, 'private': 110440448, 'wset': 295673856, 'rss': 295673856, 'uss': 87756800, 'vms': 110440448}\n",
      "fv-20000.ods: {'peak_nonpaged_pool': 62768, 'peak_paged_pool': 1548592, 'num_page_faults': 188320, 'peak_pagefile': 490016768, 'nonpaged_pool': 62496, 'paged_pool': 1548592, 'peak_wset': 569905152, 'pagefile': 489914368, 'private': 489914368, 'wset': 569896960, 'rss': 569896960, 'uss': 346255360, 'vms': 489914368}\n",
      "fv-20000.ods: {'peak_nonpaged_pool': 62768, 'peak_paged_pool': 1548912, 'num_page_faults': 188356, 'peak_pagefile': 490045440, 'nonpaged_pool': 62360, 'paged_pool': 1547104, 'peak_wset': 570044416, 'pagefile': 489832448, 'private': 489832448, 'wset': 570023936, 'rss': 570023936, 'uss': 346345472, 'vms': 489832448}\n",
      "fv-20000.ods: {'peak_nonpaged_pool': 62768, 'peak_paged_pool': 1548912, 'num_page_faults': 188356, 'peak_pagefile': 490045440, 'nonpaged_pool': 62360, 'paged_pool': 1547104, 'peak_wset': 570044416, 'pagefile': 489832448, 'private': 489832448, 'wset': 570023936, 'rss': 570023936, 'uss': 346345472, 'vms': 489832448}\n",
      "fv-20000.ods: {'peak_nonpaged_pool': 62768, 'peak_paged_pool': 1548912, 'num_page_faults': 188356, 'peak_pagefile': 490045440, 'nonpaged_pool': 62360, 'paged_pool': 1547104, 'peak_wset': 570044416, 'pagefile': 489832448, 'private': 489832448, 'wset': 570023936, 'rss': 570023936, 'uss': 346345472, 'vms': 489832448}\n",
      "fv-20000.ods: {'peak_nonpaged_pool': 62768, 'peak_paged_pool': 1548912, 'num_page_faults': 188356, 'peak_pagefile': 490045440, 'nonpaged_pool': 62360, 'paged_pool': 1547104, 'peak_wset': 570044416, 'pagefile': 489832448, 'private': 489832448, 'wset': 570023936, 'rss': 570023936, 'uss': 346345472, 'vms': 489832448}\n",
      "fv-20000.ods: {'peak_nonpaged_pool': 62768, 'peak_paged_pool': 1548912, 'num_page_faults': 188358, 'peak_pagefile': 490045440, 'nonpaged_pool': 62360, 'paged_pool': 1547104, 'peak_wset': 570044416, 'pagefile': 489832448, 'private': 489832448, 'wset': 570032128, 'rss': 570032128, 'uss': 346345472, 'vms': 489832448}\n",
      "fv-20000.ods: {'peak_nonpaged_pool': 62768, 'peak_paged_pool': 1548912, 'num_page_faults': 188358, 'peak_pagefile': 490045440, 'nonpaged_pool': 62360, 'paged_pool': 1547104, 'peak_wset': 570044416, 'pagefile': 489832448, 'private': 489832448, 'wset': 570032128, 'rss': 570032128, 'uss': 346345472, 'vms': 489832448}\n",
      "fv-20000.ods: {'peak_nonpaged_pool': 62768, 'peak_paged_pool': 1548912, 'num_page_faults': 188358, 'peak_pagefile': 490045440, 'nonpaged_pool': 62360, 'paged_pool': 1547104, 'peak_wset': 570044416, 'pagefile': 489832448, 'private': 489832448, 'wset': 570032128, 'rss': 570032128, 'uss': 346345472, 'vms': 489832448}\n",
      "fv-50000.ods: {'peak_nonpaged_pool': 46664, 'peak_paged_pool': 288080, 'num_page_faults': 74481, 'peak_pagefile': 413863936, 'nonpaged_pool': 42680, 'paged_pool': 287968, 'peak_wset': 56602624, 'pagefile': 411594752, 'private': 411594752, 'wset': 54403072, 'rss': 54403072, 'uss': 38629376, 'vms': 411594752}\n",
      "fv-50000.ods: {'peak_nonpaged_pool': 57408, 'peak_paged_pool': 1539696, 'num_page_faults': 129473, 'peak_pagefile': 150630400, 'nonpaged_pool': 57328, 'paged_pool': 1511560, 'peak_wset': 336752640, 'pagefile': 143634432, 'private': 143634432, 'wset': 331214848, 'rss': 331214848, 'uss': 117460992, 'vms': 143634432}\n",
      "fv-50000.ods: {'peak_nonpaged_pool': 62768, 'peak_paged_pool': 1547632, 'num_page_faults': 192403, 'peak_pagefile': 497451008, 'nonpaged_pool': 62360, 'paged_pool': 1545824, 'peak_wset': 578543616, 'pagefile': 497238016, 'private': 497238016, 'wset': 577634304, 'rss': 577634304, 'uss': 353939456, 'vms': 497238016}\n",
      "fv-50000.ods: {'peak_nonpaged_pool': 62768, 'peak_paged_pool': 1547632, 'num_page_faults': 192403, 'peak_pagefile': 497451008, 'nonpaged_pool': 62360, 'paged_pool': 1545824, 'peak_wset': 578543616, 'pagefile': 497238016, 'private': 497238016, 'wset': 577634304, 'rss': 577634304, 'uss': 353939456, 'vms': 497238016}\n",
      "fv-50000.ods: {'peak_nonpaged_pool': 62768, 'peak_paged_pool': 1547632, 'num_page_faults': 192403, 'peak_pagefile': 497451008, 'nonpaged_pool': 62360, 'paged_pool': 1545824, 'peak_wset': 578543616, 'pagefile': 497238016, 'private': 497238016, 'wset': 577634304, 'rss': 577634304, 'uss': 353939456, 'vms': 497238016}\n",
      "fv-50000.ods: {'peak_nonpaged_pool': 62768, 'peak_paged_pool': 1547632, 'num_page_faults': 192403, 'peak_pagefile': 497451008, 'nonpaged_pool': 62360, 'paged_pool': 1545824, 'peak_wset': 578543616, 'pagefile': 497238016, 'private': 497238016, 'wset': 577634304, 'rss': 577634304, 'uss': 353939456, 'vms': 497238016}\n",
      "fv-50000.ods: {'peak_nonpaged_pool': 62768, 'peak_paged_pool': 1547632, 'num_page_faults': 192405, 'peak_pagefile': 497451008, 'nonpaged_pool': 62360, 'paged_pool': 1545824, 'peak_wset': 578543616, 'pagefile': 497238016, 'private': 497238016, 'wset': 577642496, 'rss': 577642496, 'uss': 353939456, 'vms': 497238016}\n",
      "fv-50000.ods: {'peak_nonpaged_pool': 62768, 'peak_paged_pool': 1547632, 'num_page_faults': 192405, 'peak_pagefile': 497451008, 'nonpaged_pool': 62360, 'paged_pool': 1545824, 'peak_wset': 578543616, 'pagefile': 497238016, 'private': 497238016, 'wset': 577642496, 'rss': 577642496, 'uss': 353939456, 'vms': 497238016}\n",
      "fv-50000.ods: {'peak_nonpaged_pool': 62768, 'peak_paged_pool': 1547632, 'num_page_faults': 192405, 'peak_pagefile': 497451008, 'nonpaged_pool': 62360, 'paged_pool': 1545824, 'peak_wset': 578543616, 'pagefile': 497238016, 'private': 497238016, 'wset': 577642496, 'rss': 577642496, 'uss': 353939456, 'vms': 497238016}\n",
      "fv-30000.ods: {'peak_nonpaged_pool': 46664, 'peak_paged_pool': 288080, 'num_page_faults': 80143, 'peak_pagefile': 413863936, 'nonpaged_pool': 42680, 'paged_pool': 287968, 'peak_wset': 56602624, 'pagefile': 411594752, 'private': 411594752, 'wset': 54403072, 'rss': 54403072, 'uss': 38629376, 'vms': 411594752}\n",
      "fv-30000.ods: {'peak_nonpaged_pool': 57328, 'peak_paged_pool': 1541136, 'num_page_faults': 128600, 'peak_pagefile': 142483456, 'nonpaged_pool': 57192, 'paged_pool': 1513864, 'peak_wset': 336859136, 'pagefile': 142483456, 'private': 142483456, 'wset': 336855040, 'rss': 336855040, 'uss': 119386112, 'vms': 142483456}\n",
      "fv-30000.ods: {'peak_nonpaged_pool': 62768, 'peak_paged_pool': 1549168, 'num_page_faults': 189452, 'peak_pagefile': 494739456, 'nonpaged_pool': 62360, 'paged_pool': 1547360, 'peak_wset': 575827968, 'pagefile': 494526464, 'private': 494526464, 'wset': 574791680, 'rss': 574791680, 'uss': 351105024, 'vms': 494526464}\n",
      "fv-30000.ods: {'peak_nonpaged_pool': 62768, 'peak_paged_pool': 1549168, 'num_page_faults': 189452, 'peak_pagefile': 494739456, 'nonpaged_pool': 62360, 'paged_pool': 1547360, 'peak_wset': 575827968, 'pagefile': 494526464, 'private': 494526464, 'wset': 574791680, 'rss': 574791680, 'uss': 351105024, 'vms': 494526464}\n",
      "fv-30000.ods: {'peak_nonpaged_pool': 62768, 'peak_paged_pool': 1549168, 'num_page_faults': 189452, 'peak_pagefile': 494739456, 'nonpaged_pool': 62224, 'paged_pool': 1450160, 'peak_wset': 575827968, 'pagefile': 494428160, 'private': 494428160, 'wset': 574791680, 'rss': 574791680, 'uss': 351105024, 'vms': 494428160}\n",
      "fv-30000.ods: {'peak_nonpaged_pool': 62768, 'peak_paged_pool': 1549168, 'num_page_faults': 189452, 'peak_pagefile': 494739456, 'nonpaged_pool': 62224, 'paged_pool': 1450160, 'peak_wset': 575827968, 'pagefile': 494428160, 'private': 494428160, 'wset': 574791680, 'rss': 574791680, 'uss': 351105024, 'vms': 494428160}\n",
      "fv-30000.ods: {'peak_nonpaged_pool': 62768, 'peak_paged_pool': 1549168, 'num_page_faults': 189456, 'peak_pagefile': 494739456, 'nonpaged_pool': 62224, 'paged_pool': 1450160, 'peak_wset': 575827968, 'pagefile': 494428160, 'private': 494428160, 'wset': 574808064, 'rss': 574808064, 'uss': 351105024, 'vms': 494428160}\n",
      "fv-30000.ods: {'peak_nonpaged_pool': 62768, 'peak_paged_pool': 1549168, 'num_page_faults': 189456, 'peak_pagefile': 494739456, 'nonpaged_pool': 62224, 'paged_pool': 1450160, 'peak_wset': 575827968, 'pagefile': 494428160, 'private': 494428160, 'wset': 574808064, 'rss': 574808064, 'uss': 351105024, 'vms': 494428160}\n",
      "fv-30000.ods: {'peak_nonpaged_pool': 62768, 'peak_paged_pool': 1549168, 'num_page_faults': 189456, 'peak_pagefile': 494739456, 'nonpaged_pool': 62224, 'paged_pool': 1450160, 'peak_wset': 575827968, 'pagefile': 494428160, 'private': 494428160, 'wset': 574808064, 'rss': 574808064, 'uss': 351105024, 'vms': 494428160}\n",
      "\n",
      "Total time (HH:MM:SS): 00:03:27\n"
     ]
    }
   ],
   "source": [
    "if process is not None:\n",
    "    process.start()\n",
    "    while True:\n",
    "        item = parent_conn.recv()\n",
    "        if type(item) == dict:\n",
    "            vo_rowsizes = []; vo_memsizes = []; fv_rowsizes = []; fv_memsizes = []\n",
    "            for r, d in sorted(item.items(), key=lambda pair: pair[0]):\n",
    "                if \"Value uss (MB)\"   in d: vo_rowsizes.append(str(r)); vo_memsizes.append(d[\"Value uss (MB)\"  ])\n",
    "                if \"Formula uss (MB)\" in d: fv_rowsizes.append(str(r)); fv_memsizes.append(d[\"Formula uss (MB)\"])\n",
    "            barplt.data[0].x = vo_fig.data[0].x = vo_rowsizes\n",
    "            barplt.data[1].x = fv_fig.data[0].x = fv_rowsizes\n",
    "            barplt.data[0].y = vo_fig.data[0].y = vo_memsizes\n",
    "            barplt.data[1].y = fv_fig.data[0].y = fv_memsizes\n",
    "        if type(item) == str:   print(item)\n",
    "        if item is None:        break\n",
    "    process.join()\n",
    "    process.terminate()"
   ]
  },
  {
   "cell_type": "code",
   "execution_count": 8,
   "metadata": {},
   "outputs": [],
   "source": [
    "# Timing notes\n",
    "\n",
    "# EXCEL:\n",
    "# large-RCBS-1col (Python)\n",
    "#   Up to 1 million: Total time (HH:MM:SS): 06:56:18\n",
    "# RCBS-1col (Python)\n",
    "#   Up to 1 million: Total time (HH:MM:SS): 07:05:28\n",
    "# RCBS-1col (VBA)\n",
    "#   Up to 1 million: Total time (HH:MM:SS): 07:47:56\n",
    "# RLS-1col\n",
    "#   Up to 1 million: Total time (HH:MM:SS): 00:06:18\n",
    "# RSCS-1col (VBA)\n",
    "#   Up to 1 million: Total time (HH:MM:SS): 00:08:18\n",
    "# RLS-5col\n",
    "#   Up to 1 million: Total time (HH:MM:SS): 00:21:21"
   ]
  }
 ]
}