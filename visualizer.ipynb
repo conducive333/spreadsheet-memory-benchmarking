{
 "metadata": {
  "language_info": {
   "codemirror_mode": {
    "name": "ipython",
    "version": 3
   },
   "file_extension": ".py",
   "mimetype": "text/x-python",
   "name": "python",
   "nbconvert_exporter": "python",
   "pygments_lexer": "ipython3",
   "version": "3.9.1-final"
  },
  "orig_nbformat": 2,
  "kernelspec": {
   "name": "python3",
   "display_name": "Python 3.9.1 64-bit ('venv')",
   "metadata": {
    "interpreter": {
     "hash": "eac5fd4f3b87df99de86ad020418d85b202268d4b21f8e6ebb10ed7c9c0fe4d2"
    }
   }
  }
 },
 "nbformat": 4,
 "nbformat_minor": 2,
 "cells": [
  {
   "cell_type": "code",
   "execution_count": 1,
   "metadata": {},
   "outputs": [],
   "source": [
    "from code.excelmem.excelmemvis import main as excel_main\n",
    "from code.libremem.librememvis import main as libre_main\n",
    "\n",
    "import plotly.graph_objects as go\n",
    "import multiprocessing as mp"
   ]
  },
  {
   "cell_type": "code",
   "execution_count": 2,
   "metadata": {},
   "outputs": [
    {
     "output_type": "display_data",
     "data": {
      "text/plain": "FigureWidget({\n    'data': [{'name': 'Formula-Value (MB)', 'type': 'scatter', 'uid': 'a075bf75-37f0-4571-9fdd-…",
      "application/vnd.jupyter.widget-view+json": {
       "version_major": 2,
       "version_minor": 0,
       "model_id": "51e60e09482144f687fc6cf74bcd9511"
      }
     },
     "metadata": {}
    }
   ],
   "source": [
    "fv_fig = go.FigureWidget(\n",
    "    layout=go.Layout(\n",
    "        title=go.layout.Title(text=\"Formula-Value Live Data\"),\n",
    "        xaxis=dict(title=\"Rows\"),\n",
    "        yaxis=dict(title=\"Formula Size (MB)\")\n",
    "    )\n",
    ")\n",
    "fv_fig.add_scatter(name='Formula-Value (MB)')\n",
    "fv_fig"
   ]
  },
  {
   "cell_type": "code",
   "execution_count": 3,
   "metadata": {},
   "outputs": [
    {
     "output_type": "display_data",
     "data": {
      "text/plain": "FigureWidget({\n    'data': [{'name': 'Value-Only (MB)', 'type': 'scatter', 'uid': '020e4219-b76f-4347-a924-559…",
      "application/vnd.jupyter.widget-view+json": {
       "version_major": 2,
       "version_minor": 0,
       "model_id": "766b5a03eb9445eabdee0f86219cbcb6"
      }
     },
     "metadata": {}
    }
   ],
   "source": [
    "vo_fig = go.FigureWidget(\n",
    "    layout=go.Layout(\n",
    "        title=go.layout.Title(text=\"Value-Only Live Data\"),\n",
    "        xaxis=dict(title=\"Rows\"),\n",
    "        yaxis=dict(title=\"Value Size (MB)\")\n",
    "    )\n",
    ")\n",
    "vo_fig.add_scatter(name='Value-Only (MB)')\n",
    "vo_fig"
   ]
  },
  {
   "cell_type": "code",
   "execution_count": 4,
   "metadata": {},
   "outputs": [
    {
     "output_type": "display_data",
     "data": {
      "text/plain": "FigureWidget({\n    'data': [{'name': 'Value-Only (MB)', 'type': 'bar', 'uid': 'd3f7dba9-0bbd-4ad0-8e6f-e42865c…",
      "application/vnd.jupyter.widget-view+json": {
       "version_major": 2,
       "version_minor": 0,
       "model_id": "c0b092a7d9884fc4b06b7a153f3beecd"
      }
     },
     "metadata": {}
    }
   ],
   "source": [
    "barplt = go.FigureWidget(\n",
    "    layout=go.Layout(\n",
    "        title=go.layout.Title(text=\"Live Data\"),\n",
    "        xaxis=dict(title=\"Rows\"),\n",
    "        yaxis=dict(title=\"Size (MB)\")\n",
    "    )\n",
    ")\n",
    "barplt.add_bar(name='Value-Only (MB)')\n",
    "barplt.add_bar(name='Formula-Value (MB)')\n",
    "barplt"
   ]
  },
  {
   "cell_type": "code",
   "execution_count": 5,
   "metadata": {},
   "outputs": [],
   "source": [
    "# Either \"libre\" or \"excel\"\n",
    "APPLICATION = \"excel\"\n",
    "\n",
    "SOFFICE_DIR = \"C:/Program Files/LibreOffice/program/soffice\"\n",
    "INPUTS_PATH = os.path.join(\"input-data\", \"tests\")\n",
    "FV_INPUTDIR = \"formula-value\"\n",
    "VO_INPUTDIR = \"value-only\"\n",
    "OUTPUT_NAME = \"results\"\n",
    "OUTDIR_NAME = \"test\"\n",
    "INTEGER_ARG = 3"
   ]
  },
  {
   "cell_type": "code",
   "execution_count": 6,
   "metadata": {},
   "outputs": [],
   "source": [
    "parent_conn, child_conn = mp.Pipe()\n",
    "\n",
    "if APPLICATION.lower() == \"excel\":\n",
    "  process = mp.Process(target=excel_main\n",
    "    , args=(child_conn, INPUTS_PATH,)\n",
    "    , kwargs={\n",
    "      \"fv_inputdir\"   : \"formula-value\"\n",
    "      , \"vo_inputdir\" : \"value-only\"\n",
    "      , \"output_path\" : os.path.join(OUTPUT_NAME, \"excel\")\n",
    "      , \"outdir_name\" : OUTDIR_NAME\n",
    "      , \"trials\"      : INTEGER_ARG\n",
    "    }\n",
    "  )\n",
    "else:\n",
    "  process = mp.Process(target=libre_main\n",
    "    , args=(child_conn, INPUTS_PATH,)\n",
    "    , kwargs={\n",
    "      \"soffice_path\"  : SOFFICE_DIR\n",
    "      , \"fv_inputdir\" : FV_INPUTDIR\n",
    "      , \"vo_inputdir\" : VO_INPUTDIR\n",
    "      , \"output_path\" : os.path.join(OUTPUT_NAME, \"libre\")\n",
    "      , \"outdir_name\" : OUTDIR_NAME\n",
    "      , \"pollseconds\" : INTEGER_ARG\n",
    "    }\n",
    "  )"
   ]
  },
  {
   "cell_type": "code",
   "execution_count": 7,
   "metadata": {
    "tags": []
   },
   "outputs": [
    {
     "output_type": "stream",
     "name": "stdout",
     "text": [
      "Closing all running instances of EXCEL.EXE (if any)\n",
      "Opening vo-10000.xlsx (trial 1)\n",
      "Opening vo-10000.xlsx (trial 2)\n",
      "Opening vo-10000.xlsx (trial 3)\n",
      "{'Value Peak WSS (MB)': 141.77484799999993, 'Value WSS (MB)': 139.30086399999993, 'Value RSS (MB)': 139.300864, 'Value USS (MB)': 60.645375999999985}\n",
      "Opening vo-100.xlsx (trial 1)\n",
      "Opening vo-100.xlsx (trial 2)\n",
      "Opening vo-100.xlsx (trial 3)\n",
      "{'Value Peak WSS (MB)': 138.84620799999996, 'Value WSS (MB)': 138.84211200000001, 'Value RSS (MB)': 138.84211200000001, 'Value USS (MB)': 59.916288000000016}\n",
      "Opening vo-200000.xlsx (trial 1)\n",
      "Opening vo-200000.xlsx (trial 2)\n",
      "Opening vo-200000.xlsx (trial 3)\n",
      "{'Value Peak WSS (MB)': 150.757376, 'Value WSS (MB)': 150.75328, 'Value RSS (MB)': 150.75328, 'Value USS (MB)': 71.73734399999996}\n",
      "Opening vo-10.xlsx (trial 1)\n",
      "Opening vo-10.xlsx (trial 2)\n",
      "Opening vo-10.xlsx (trial 3)\n",
      "{'Value Peak WSS (MB)': 138.23999999999998, 'Value WSS (MB)': 138.22771199999997, 'Value RSS (MB)': 138.22771199999997, 'Value USS (MB)': 59.26502400000001}\n",
      "Opening vo-1000.xlsx (trial 1)\n",
      "Opening vo-1000.xlsx (trial 2)\n",
      "Opening vo-1000.xlsx (trial 3)\n",
      "{'Value Peak WSS (MB)': 139.63264, 'Value WSS (MB)': 139.628544, 'Value RSS (MB)': 139.628544, 'Value USS (MB)': 60.64128}\n",
      "Opening vo-0.xlsx (trial 1)\n",
      "Opening vo-0.xlsx (trial 2)\n",
      "Opening vo-0.xlsx (trial 3)\n",
      "{'Value Peak WSS (MB)': 139.16979199999994, 'Value WSS (MB)': 138.44889600000002, 'Value RSS (MB)': 138.44889600000002, 'Value USS (MB)': 59.64595199999999}\n",
      "Opening vo-100000.xlsx (trial 1)\n",
      "Opening vo-100000.xlsx (trial 2)\n",
      "Opening vo-100000.xlsx (trial 3)\n",
      "{'Value Peak WSS (MB)': 144.71577600000003, 'Value WSS (MB)': 144.71167999999997, 'Value RSS (MB)': 144.71167999999997, 'Value USS (MB)': 65.667072}\n",
      "Opening vo-1.xlsx (trial 1)\n",
      "Opening vo-1.xlsx (trial 2)\n",
      "Opening vo-1.xlsx (trial 3)\n",
      "{'Value Peak WSS (MB)': 138.93222400000002, 'Value WSS (MB)': 138.92812799999996, 'Value RSS (MB)': 138.92812799999996, 'Value USS (MB)': 59.95315199999998}\n",
      "Opening fv-100000.xlsx (trial 1)\n",
      "Opening fv-100000.xlsx (trial 2)\n",
      "Opening fv-100000.xlsx (trial 3)\n",
      "{'Value Peak WSS (MB)': 144.71577600000003, 'Value WSS (MB)': 144.71167999999997, 'Value RSS (MB)': 144.71167999999997, 'Value USS (MB)': 65.667072, 'Formula Peak WSS (MB)': 163.581952, 'Formula WSS (MB)': 162.22617600000004, 'Formula RSS (MB)': 162.226176, 'Formula USS (MB)': 77.176832}\n",
      "Opening fv-200000.xlsx (trial 1)\n",
      "Opening fv-200000.xlsx (trial 2)\n",
      "Opening fv-200000.xlsx (trial 3)\n",
      "{'Value Peak WSS (MB)': 150.757376, 'Value WSS (MB)': 150.75328, 'Value RSS (MB)': 150.75328, 'Value USS (MB)': 71.73734399999996, 'Formula Peak WSS (MB)': 178.99110399999995, 'Formula WSS (MB)': 177.72134399999996, 'Formula RSS (MB)': 177.73363200000009, 'Formula USS (MB)': 92.41395200000001}\n",
      "Opening fv-10.xlsx (trial 1)\n",
      "Opening fv-10.xlsx (trial 2)\n",
      "Opening fv-10.xlsx (trial 3)\n",
      "{'Value Peak WSS (MB)': 138.23999999999998, 'Value WSS (MB)': 138.22771199999997, 'Value RSS (MB)': 138.22771199999997, 'Value USS (MB)': 59.26502400000001, 'Formula Peak WSS (MB)': 139.665408, 'Formula WSS (MB)': 139.66131200000004, 'Formula RSS (MB)': 139.66131200000004, 'Formula USS (MB)': 60.227584}\n",
      "Opening fv-1.xlsx (trial 1)\n",
      "Opening fv-1.xlsx (trial 2)\n",
      "Opening fv-1.xlsx (trial 3)\n",
      "{'Value Peak WSS (MB)': 138.93222400000002, 'Value WSS (MB)': 138.92812799999996, 'Value RSS (MB)': 138.92812799999996, 'Value USS (MB)': 59.95315199999998, 'Formula Peak WSS (MB)': 139.16159999999996, 'Formula WSS (MB)': 139.157504, 'Formula RSS (MB)': 139.157504, 'Formula USS (MB)': 59.83846399999999}\n",
      "Opening fv-1000.xlsx (trial 1)\n",
      "Opening fv-1000.xlsx (trial 2)\n",
      "Opening fv-1000.xlsx (trial 3)\n",
      "{'Value Peak WSS (MB)': 139.63264, 'Value WSS (MB)': 139.628544, 'Value RSS (MB)': 139.628544, 'Value USS (MB)': 60.64128, 'Formula Peak WSS (MB)': 141.258752, 'Formula WSS (MB)': 141.25465600000004, 'Formula RSS (MB)': 141.25465600000004, 'Formula USS (MB)': 61.804544000000014}\n",
      "Opening fv-10000.xlsx (trial 1)\n",
      "Opening fv-10000.xlsx (trial 2)\n",
      "Opening fv-10000.xlsx (trial 3)\n",
      "{'Value Peak WSS (MB)': 141.77484799999993, 'Value WSS (MB)': 139.30086399999993, 'Value RSS (MB)': 139.300864, 'Value USS (MB)': 60.645375999999985, 'Formula Peak WSS (MB)': 141.68064000000004, 'Formula WSS (MB)': 141.67654399999995, 'Formula RSS (MB)': 141.67654399999995, 'Formula USS (MB)': 62.357504000000006}\n",
      "Opening fv-100.xlsx (trial 1)\n",
      "Opening fv-100.xlsx (trial 2)\n",
      "Opening fv-100.xlsx (trial 3)\n",
      "{'Value Peak WSS (MB)': 138.84620799999996, 'Value WSS (MB)': 138.84211200000001, 'Value RSS (MB)': 138.84211200000001, 'Value USS (MB)': 59.916288000000016, 'Formula Peak WSS (MB)': 139.59987199999998, 'Formula WSS (MB)': 139.59577600000003, 'Formula RSS (MB)': 139.59577600000003, 'Formula USS (MB)': 60.17433599999999}\n",
      "Opening fv-0.xlsx (trial 1)\n",
      "Opening fv-0.xlsx (trial 2)\n",
      "Opening fv-0.xlsx (trial 3)\n",
      "{'Value Peak WSS (MB)': 139.16979199999994, 'Value WSS (MB)': 138.44889600000002, 'Value RSS (MB)': 138.44889600000002, 'Value USS (MB)': 59.64595199999999, 'Formula Peak WSS (MB)': 139.38688000000005, 'Formula WSS (MB)': 139.38278400000004, 'Formula RSS (MB)': 139.38278400000004, 'Formula USS (MB)': 60.58393600000001}\n",
      "\n",
      "Total time (HH:MM:SS): 00:03:30\n"
     ]
    }
   ],
   "source": [
    "process.start()\n",
    "while True:\n",
    "    item = parent_conn.recv()\n",
    "    if type(item) == dict:\n",
    "        vo_rowsizes = []; vo_memsizes = []; fv_rowsizes = []; fv_memsizes = []\n",
    "        for r, d in sorted(item.items(), key=lambda pair: pair[0]):\n",
    "            if \"Value USS (MB)\"   in d: vo_rowsizes.append(str(r)); vo_memsizes.append(d[\"Value USS (MB)\"  ])\n",
    "            if \"Formula USS (MB)\" in d: fv_rowsizes.append(str(r)); fv_memsizes.append(d[\"Formula USS (MB)\"])\n",
    "        barplt.data[0].x = vo_fig.data[0].x = vo_rowsizes\n",
    "        barplt.data[1].x = fv_fig.data[0].x = fv_rowsizes\n",
    "        barplt.data[0].y = vo_fig.data[0].y = vo_memsizes\n",
    "        barplt.data[1].y = fv_fig.data[0].y = fv_memsizes\n",
    "    if type(item) == str:   print(item)\n",
    "    if item is None:        break\n",
    "process.join()\n",
    "process.terminate()"
   ]
  },
  {
   "cell_type": "code",
   "execution_count": 8,
   "metadata": {},
   "outputs": [],
   "source": [
    "# EXCEL:\n",
    "# RCBS-1col\n",
    "#   Up to 1 million: Total time (HH:MM:SS): 06:56:18\n",
    "# RLS-1col\n",
    "#   Up to 1 million: Total time (HH:MM:SS): 00:06:18\n",
    "# RLS-5col\n",
    "#   Up to 1 million: Total time (HH:MM:SS): 00:21:21"
   ]
  }
 ]
}