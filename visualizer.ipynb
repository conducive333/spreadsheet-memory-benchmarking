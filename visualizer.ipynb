{
 "metadata": {
  "language_info": {
   "codemirror_mode": {
    "name": "ipython",
    "version": 3
   },
   "file_extension": ".py",
   "mimetype": "text/x-python",
   "name": "python",
   "nbconvert_exporter": "python",
   "pygments_lexer": "ipython3",
   "version": "3.9.1-final"
  },
  "orig_nbformat": 2,
  "kernelspec": {
   "name": "python3",
   "display_name": "Python 3.9.1 64-bit ('venv')",
   "metadata": {
    "interpreter": {
     "hash": "eac5fd4f3b87df99de86ad020418d85b202268d4b21f8e6ebb10ed7c9c0fe4d2"
    }
   }
  }
 },
 "nbformat": 4,
 "nbformat_minor": 2,
 "cells": [
  {
   "source": [
    "# Real-Time Experimental Results Visualizer"
   ],
   "cell_type": "markdown",
   "metadata": {}
  },
  {
   "source": [
    "## Setup"
   ],
   "cell_type": "markdown",
   "metadata": {}
  },
  {
   "cell_type": "code",
   "execution_count": null,
   "metadata": {},
   "outputs": [],
   "source": [
    "import pymem.utils.pipeline as pipeline\n",
    "import plotly.graph_objects as go"
   ]
  },
  {
   "cell_type": "code",
   "execution_count": null,
   "metadata": {},
   "outputs": [],
   "source": [
    "fv_fig = go.FigureWidget(\n",
    "    layout=go.Layout(\n",
    "        title=go.layout.Title(text=\"Formula-Value Live Data\"),\n",
    "        xaxis=dict(title=\"Rows\"),\n",
    "        yaxis=dict(title=\"Formula Size (MB)\")\n",
    "    )\n",
    ")\n",
    "fv_fig.add_scatter(name='Formula-Value (MB)')\n",
    "fv_fig"
   ]
  },
  {
   "cell_type": "code",
   "execution_count": null,
   "metadata": {},
   "outputs": [],
   "source": [
    "vo_fig = go.FigureWidget(\n",
    "    layout=go.Layout(\n",
    "        title=go.layout.Title(text=\"Value-Only Live Data\"),\n",
    "        xaxis=dict(title=\"Rows\"),\n",
    "        yaxis=dict(title=\"Value Size (MB)\")\n",
    "    )\n",
    ")\n",
    "vo_fig.add_scatter(name='Value-Only (MB)')\n",
    "vo_fig"
   ]
  },
  {
   "cell_type": "code",
   "execution_count": null,
   "metadata": {},
   "outputs": [],
   "source": [
    "barplt = go.FigureWidget(\n",
    "    layout=go.Layout(\n",
    "        title=go.layout.Title(text=\"Live Data\"),\n",
    "        xaxis=dict(title=\"Rows\"),\n",
    "        yaxis=dict(title=\"Size (MB)\")\n",
    "    )\n",
    ")\n",
    "barplt.add_bar(name='Value-Only (MB)')\n",
    "barplt.add_bar(name='Formula-Value (MB)')\n",
    "barplt"
   ]
  },
  {
   "source": [
    "## Place your own settings here"
   ],
   "cell_type": "markdown",
   "metadata": {}
  },
  {
   "cell_type": "code",
   "execution_count": null,
   "metadata": {},
   "outputs": [],
   "source": [
    "# Input and output paths are relative to root directory\n",
    "INTEGER_ARG = 1\n",
    "OUTPUT_PATH = os.path.join(\"experiments\", \"results\", \"excel\", \"TEST\")\n",
    "SOFFICE_DIR = \"C:/Program Files/LibreOffice/program/soffice\"\n",
    "CONFIG_ARGS = pipeline.ConfigArgs(inst=\"CompleteBipartiteSum\"\n",
    "    , path=os.path.join(\"experiments\", \"input-data\", \"rscs-test\")\n",
    "    , rand=42\n",
    "    , xlsx=True\n",
    "    , step=10000\n",
    "    , rows=0\n",
    "    , cols=1\n",
    "    , itrs=2\n",
    "    , pool=1\n",
    ")"
   ]
  },
  {
   "source": [
    "## Run the following cell for real-time results"
   ],
   "cell_type": "markdown",
   "metadata": {}
  },
  {
   "cell_type": "code",
   "execution_count": null,
   "metadata": {
    "tags": []
   },
   "outputs": [],
   "source": [
    "pipeline.run_vis(CONFIG_ARGS\n",
    "  , OUTPUT_PATH\n",
    "  , INTEGER_ARG\n",
    "  , SOFFICE_DIR\n",
    "  , fv_fig\n",
    "  , vo_fig\n",
    "  , barplt\n",
    "  , 'uss'\n",
    ")"
   ]
  },
  {
   "cell_type": "code",
   "execution_count": null,
   "metadata": {},
   "outputs": [],
   "source": [
    "# Timing notes\n",
    "\n",
    "# EXCEL:\n",
    "# large-RCBS-1col (Python)\n",
    "#   Up to 1 million: Total time (HH:MM:SS): 06:56:18\n",
    "# RCBS-1col (Python)\n",
    "#   Up to 1 million: Total time (HH:MM:SS): 07:05:28\n",
    "# RCBS-1col (VBA)\n",
    "#   Up to 1 million: Total time (HH:MM:SS): 07:47:56\n",
    "# RLS-1col\n",
    "#   Up to 1 million: Total time (HH:MM:SS): 00:06:18\n",
    "# RSCS-1col (VBA)\n",
    "#   Up to 1 million: Total time (HH:MM:SS): 00:08:18\n",
    "# RLS-5col\n",
    "#   Up to 1 million: Total time (HH:MM:SS): 00:21:21"
   ]
  }
 ]
}